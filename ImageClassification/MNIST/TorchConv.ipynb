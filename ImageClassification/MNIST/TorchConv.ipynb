{
 "cells": [
  {
   "cell_type": "markdown",
   "id": "c108e51e-5832-48b1-8b72-3d2bb27a306d",
   "metadata": {},
   "source": [
    "# Imports"
   ]
  },
  {
   "cell_type": "code",
   "execution_count": 1,
   "id": "048c78f3",
   "metadata": {
    "papermill": {
     "duration": 5.100457,
     "end_time": "2025-02-16T19:48:19.386712",
     "exception": false,
     "start_time": "2025-02-16T19:48:14.286255",
     "status": "completed"
    },
    "tags": []
   },
   "outputs": [],
   "source": [
    "import os\n",
    "import numpy as np\n",
    "import pandas as pd\n",
    "import torch\n",
    "from tqdm import tqdm\n",
    "from torch import nn, Tensor, TensorType\n",
    "from torch.nn import functional as F\n",
    "from torch.utils.data import Dataset, DataLoader, random_split\n",
    "import matplotlib.pyplot as plt\n",
    "import ipywidgets as widgets\n",
    "from IPython.display import display, clear_output\n",
    "from PIL import Image\n",
    "from torchvision.transforms import v2\n",
    "import io"
   ]
  },
  {
   "cell_type": "markdown",
   "id": "6fb92e30-223c-44b2-9ff8-848c1a9883f7",
   "metadata": {},
   "source": [
    "# Utils"
   ]
  },
  {
   "cell_type": "code",
   "execution_count": 2,
   "id": "e88c328b",
   "metadata": {
    "papermill": {
     "duration": 0.011656,
     "end_time": "2025-02-16T19:48:19.402662",
     "exception": false,
     "start_time": "2025-02-16T19:48:19.391006",
     "status": "completed"
    },
    "tags": []
   },
   "outputs": [],
   "source": [
    "def prepare_test_df(test_df):\n",
    "    df = test_df.to_numpy()\n",
    "    df = df.reshape(-1, 1, 28, 28).astype(np.float32)/255\n",
    "    return np.arange(1, df.shape[0]+1), torch.from_numpy(df)"
   ]
  },
  {
   "cell_type": "code",
   "execution_count": 3,
   "id": "05c0b0cf",
   "metadata": {
    "papermill": {
     "duration": 0.011565,
     "end_time": "2025-02-16T19:48:19.417766",
     "exception": false,
     "start_time": "2025-02-16T19:48:19.406201",
     "status": "completed"
    },
    "tags": []
   },
   "outputs": [],
   "source": [
    "def accuracy(y_pred, y_true):\n",
    "    \"\"\"\n",
    "    Calculate the accuracy of predictions.\n",
    "\n",
    "    Args:\n",
    "    y_pred (torch.Tensor): Predicted labels (logits or probabilities).\n",
    "    y_true (torch.Tensor): Ground truth labels (class indices or one-hot encoded).\n",
    "\n",
    "    Returns:\n",
    "    float: Accuracy of predictions.\n",
    "    \"\"\"\n",
    "    # If y_true is one-hot encoded, convert it to class indices\n",
    "    if y_true.dim() > 1 and y_true.size(1) > 1:\n",
    "        y_true = torch.argmax(y_true, dim=1)\n",
    "\n",
    "    # If y_pred is batched (2D tensor), get the predicted class by taking the argmax\n",
    "    if y_pred.dim() > 1:\n",
    "        y_pred = torch.argmax(y_pred, dim=1)\n",
    "\n",
    "    # Calculate the number of correct predictions\n",
    "    correct = (y_pred == y_true).float().sum()\n",
    "\n",
    "    # Calculate the accuracy\n",
    "    acc = correct / y_true.shape[0]\n",
    "\n",
    "    return acc.item()"
   ]
  },
  {
   "cell_type": "markdown",
   "id": "af22ab88-7f2c-4f78-841f-86bfb411b8d0",
   "metadata": {},
   "source": [
    "# Dataset"
   ]
  },
  {
   "cell_type": "code",
   "execution_count": 4,
   "id": "485501db-d2d1-41cd-9ef6-480fe526fc0c",
   "metadata": {},
   "outputs": [],
   "source": [
    "class MNISTConvDataset(Dataset):\n",
    "    def __init__(self, dataset_path: str,  transform=None, num_classes: int = 10):\n",
    "        self.dataset = pd.read_csv(dataset_path)\n",
    "        self.num_classes = num_classes\n",
    "    \n",
    "    def __len__(self):\n",
    "        return len(self.dataset)\n",
    "\n",
    "    def onehot(self, idx):\n",
    "        out = torch.zeros((self.num_classes, ))\n",
    "        out[idx] = 1\n",
    "        return out\n",
    "    \n",
    "    def __getitem__(self, idx: int):\n",
    "        label = self.onehot(self.dataset.iloc[idx][\"label\"])\n",
    "        image = torch.from_numpy(self.dataset.iloc[idx][self.dataset.columns[1:]].to_numpy().reshape(1, 28, 28))/255\n",
    "        return image, label"
   ]
  },
  {
   "cell_type": "markdown",
   "id": "38e83272-0d19-41f8-b4b3-cc37887c09ff",
   "metadata": {},
   "source": [
    "# Model"
   ]
  },
  {
   "cell_type": "code",
   "execution_count": 5,
   "id": "099aa417",
   "metadata": {
    "papermill": {
     "duration": 0.011838,
     "end_time": "2025-02-16T19:48:19.450644",
     "exception": false,
     "start_time": "2025-02-16T19:48:19.438806",
     "status": "completed"
    },
    "tags": []
   },
   "outputs": [],
   "source": [
    "class MNISTConvClassifier(nn.Module):\n",
    "    def __init__(self, input_channels: int, hidden_channels: int, num_classes: int = 10, hidden_dim: int = 25):\n",
    "        super().__init__()\n",
    "        self.model = nn.Sequential(\n",
    "            nn.Conv2d(input_channels, hidden_channels, kernel_size=3, stride=1, padding=0),\n",
    "            nn.ReLU(),\n",
    "            nn.Conv2d(hidden_channels, hidden_channels, kernel_size=3, stride=1, padding=0),\n",
    "            nn.ReLU(),\n",
    "            nn.MaxPool2d(kernel_size=(2, 2), stride=2),\n",
    "            nn.Flatten(),\n",
    "            nn.Linear(2304, num_classes),\n",
    "        )\n",
    "    def forward(self, x):\n",
    "        return self.model(x)"
   ]
  },
  {
   "cell_type": "code",
   "execution_count": 6,
   "id": "69b26b72",
   "metadata": {
    "papermill": {
     "duration": 0.010502,
     "end_time": "2025-02-16T19:48:19.464644",
     "exception": false,
     "start_time": "2025-02-16T19:48:19.454142",
     "status": "completed"
    },
    "tags": []
   },
   "outputs": [],
   "source": [
    "LOGS = {\n",
    "    \"train_loss\": [], \n",
    "    \"train_acc\": [], \n",
    "    \"val_loss\": [], \n",
    "    \"val_acc\": [], \n",
    "    \"tmp_val_loss\": [], \n",
    "    \"tmp_val_acc\": [],\n",
    "    \"test_loss\": [],\n",
    "    \"test_acc\": []\n",
    "}"
   ]
  },
  {
   "cell_type": "code",
   "execution_count": 7,
   "id": "812d1b30",
   "metadata": {
    "papermill": {
     "duration": 0.010093,
     "end_time": "2025-02-16T19:48:19.478149",
     "exception": false,
     "start_time": "2025-02-16T19:48:19.468056",
     "status": "completed"
    },
    "tags": []
   },
   "outputs": [],
   "source": [
    "EPOCH = 3\n",
    "BATCH_SIZE = 64\n",
    "LR = 1e-3"
   ]
  },
  {
   "cell_type": "code",
   "execution_count": 8,
   "id": "78df0b9b-6234-4b2d-9bbc-eebf811ff497",
   "metadata": {},
   "outputs": [],
   "source": [
    "dataset =  MNISTConvDataset(\"./train.csv\")\n",
    "train_dataset, val_dataset, test_dataset = random_split(dataset, [0.8, 0.1, 0.1])\n",
    "train_loader = DataLoader(train_dataset, batch_size=BATCH_SIZE, drop_last=True, num_workers=2, shuffle=True)\n",
    "val_loader = DataLoader(val_dataset, batch_size=BATCH_SIZE, drop_last=True, num_workers=2, shuffle=True)\n",
    "test_loader = DataLoader(test_dataset, batch_size=BATCH_SIZE, drop_last=True, num_workers=2, shuffle=True)"
   ]
  },
  {
   "cell_type": "code",
   "execution_count": 9,
   "id": "b481a857-3e8e-47e6-ac81-d87e050af333",
   "metadata": {},
   "outputs": [
    {
     "data": {
      "text/plain": [
       "device(type='cuda')"
      ]
     },
     "execution_count": 9,
     "metadata": {},
     "output_type": "execute_result"
    }
   ],
   "source": [
    "device = torch.device(\"cuda\" if torch.cuda.is_available() else \"cpu\")\n",
    "model = MNISTConvClassifier(1, 16, 10)\n",
    "model = model.to(device)\n",
    "device"
   ]
  },
  {
   "cell_type": "code",
   "execution_count": 10,
   "id": "cc5efae6",
   "metadata": {
    "papermill": {
     "duration": 8.079539,
     "end_time": "2025-02-16T19:48:27.561288",
     "exception": false,
     "start_time": "2025-02-16T19:48:19.481749",
     "status": "completed"
    },
    "tags": []
   },
   "outputs": [],
   "source": [
    "optimizer = torch.optim.Adam(model.parameters(), lr=LR)\n",
    "criterion = nn.CrossEntropyLoss()"
   ]
  },
  {
   "cell_type": "code",
   "execution_count": 11,
   "id": "7089ce83",
   "metadata": {
    "papermill": {
     "duration": 183.683403,
     "end_time": "2025-02-16T19:51:31.248360",
     "exception": false,
     "start_time": "2025-02-16T19:48:27.564957",
     "status": "completed"
    },
    "tags": []
   },
   "outputs": [
    {
     "name": "stderr",
     "output_type": "stream",
     "text": [
      "Train loss: 0.101 Train Accuracy: 0.98 Val loss: 0.049 Val Accuracy: 0.98: 100%|█| 525/5\n",
      "Train loss: 0.189 Train Accuracy: 0.94 Val loss: 0.076 Val Accuracy: 0.98: 100%|█| 525/5\n",
      "Train loss: 0.171 Train Accuracy: 0.95 Val loss: 0.110 Val Accuracy: 0.97: 100%|█| 525/5\n"
     ]
    }
   ],
   "source": [
    "model.train()\n",
    "for epoch in range(EPOCH):\n",
    "    loop = tqdm(train_loader)\n",
    "    for batch_idx, (X, y) in enumerate(loop):\n",
    "        X, y = X.to(device), y.to(device)\n",
    "        pred = model(X)\n",
    "        loss = criterion(pred, y)\n",
    "        acc = accuracy(pred, y)\n",
    "\n",
    "        optimizer.zero_grad()\n",
    "        loss.backward()\n",
    "        optimizer.step()\n",
    "\n",
    "        if batch_idx % 250 == 0:\n",
    "            with torch.no_grad():\n",
    "                LOGS[\"tmp_val_loss\"] = []\n",
    "                LOGS[\"tmp_val_acc\"] = []\n",
    "                for val_X, val_y in val_loader:\n",
    "                    val_X, val_y = X.to(device), y.to(device)\n",
    "                    val_pred = model(val_X)\n",
    "                    val_loss = criterion(val_pred, val_y).item()\n",
    "                    val_acc = accuracy(val_pred, val_y)\n",
    "                    LOGS[\"tmp_val_loss\"].append(val_loss)\n",
    "                    LOGS[\"tmp_val_acc\"].append(val_acc)\n",
    "                    LOGS[\"val_loss\"].append(val_loss)\n",
    "                    LOGS[\"val_acc\"].append(val_acc)\n",
    "                    \n",
    "        loop.set_description(f'Train loss: {loss:.3f} Train Accuracy: {acc:.2f} Val loss: {torch.mean(Tensor(LOGS[\"tmp_val_loss\"])).item():.3f} Val Accuracy: {torch.mean(Tensor(LOGS[\"tmp_val_acc\"])).item():.2f}')\n",
    "        LOGS[\"train_loss\"].append(loss.item())\n",
    "        LOGS[\"train_acc\"].append(acc)"
   ]
  },
  {
   "cell_type": "code",
   "execution_count": 12,
   "id": "b83b43e9",
   "metadata": {
    "papermill": {
     "duration": 3.217285,
     "end_time": "2025-02-16T19:51:34.591278",
     "exception": false,
     "start_time": "2025-02-16T19:51:31.373993",
     "status": "completed"
    },
    "tags": []
   },
   "outputs": [
    {
     "name": "stdout",
     "output_type": "stream",
     "text": [
      "Model Loss: 0.149 Model Accuracy: 0.953\n"
     ]
    }
   ],
   "source": [
    "model.eval()\n",
    "with torch.no_grad():\n",
    "    for test_X, test_y in test_loader:\n",
    "        test_X, test_y = X.to(device), y.to(device)\n",
    "        test_pred = model(test_X)\n",
    "        LOGS[\"test_loss\"].append(criterion(test_pred, test_y))\n",
    "        LOGS[\"test_acc\"].append(accuracy(test_pred, test_y))\n",
    "\n",
    "    print(f\"Model Loss: {torch.mean(Tensor(LOGS['test_loss'])):.3f} Model Accuracy: {torch.mean(Tensor(LOGS['test_acc'])):.3f}\")"
   ]
  },
  {
   "cell_type": "code",
   "execution_count": 13,
   "id": "babf7673",
   "metadata": {
    "papermill": {
     "duration": 2.444196,
     "end_time": "2025-02-16T19:51:37.219180",
     "exception": false,
     "start_time": "2025-02-16T19:51:34.774984",
     "status": "completed"
    },
    "tags": []
   },
   "outputs": [
    {
     "data": {
      "image/png": "[encoded data removed]",
      "text/plain": [
       "<Figure size 1200x1200 with 4 Axes>"
      ]
     },
     "metadata": {},
     "output_type": "display_data"
    }
   ],
   "source": [
    "fig, ax = plt.subplots(nrows=2, ncols=2, figsize=(12, 12))\n",
    "ax.flat[0].plot(LOGS[\"train_loss\"])\n",
    "ax.flat[0].set_title(\"Train Loss\")\n",
    "\n",
    "ax.flat[1].plot(LOGS[\"train_acc\"])\n",
    "ax.flat[1].set_title(\"Train Accuracy\")\n",
    "\n",
    "ax.flat[2].plot(LOGS[\"val_loss\"])\n",
    "ax.flat[2].set_title(\"Validation Loss\")\n",
    "\n",
    "ax.flat[3].plot(LOGS[\"val_acc\"])\n",
    "ax.flat[3].set_title(\"Validation Accuracy\")\n",
    "\n",
    "plt.show()"
   ]
  },
  {
   "cell_type": "code",
   "execution_count": 14,
   "id": "76a04c69-58b2-4d9b-8e8d-55abd77bae61",
   "metadata": {},
   "outputs": [],
   "source": [
    "cpu_model = model.cpu()"
   ]
  },
  {
   "cell_type": "markdown",
   "id": "f7ab62e8-15bc-4c65-9681-0044a7f5b055",
   "metadata": {},
   "source": [
    "# Prediction"
   ]
  },
  {
   "cell_type": "markdown",
   "id": "25d41a01-7ad7-42c0-86cb-7f8bb1d8e53e",
   "metadata": {},
   "source": [
    "### Form Setup"
   ]
  },
  {
   "cell_type": "code",
   "execution_count": 15,
   "id": "3febd27d-9e34-4d7b-bd00-d6c2dea501a6",
   "metadata": {},
   "outputs": [],
   "source": [
    "t1_output = widgets.Output()\n",
    "\n",
    "image_id = widgets.BoundedIntText(\n",
    "    value=7,\n",
    "    min=0,\n",
    "    max=len(val_dataset),\n",
    "    step=1,\n",
    "    description='Image id from dataset:',\n",
    "    disabled=False,\n",
    "    style={'description_width': 'initial'}\n",
    ")\n",
    "def t1_func(b):\n",
    "    image_id_i = image_id.value\n",
    "    with t1_output:\n",
    "        clear_output()\n",
    "        plt.figure(figsize=(12, 5))\n",
    "\n",
    "        plt.subplot(1, 2, 1)\n",
    "        plt.imshow(val_dataset[image_id_i][0].permute(1, 2, 0).numpy())\n",
    "        plt.title(\"Selected image\")\n",
    "        plt.xticks([])\n",
    "        plt.yticks([])\n",
    "        plt.subplot(1, 2, 2)\n",
    "        plt.axis('off')\n",
    "        prediction = cpu_model(val_dataset[image_id_i][0].unsqueeze(0))\n",
    "        info = f\"\"\"Number on image this is {torch.argmax(prediction).item()}\"\"\"\n",
    "\n",
    "        plt.text(0, 1, info, fontsize=12, va='top')\n",
    "        plt.tight_layout()\n",
    "        plt.show()\n",
    "        \n",
    "\n",
    "t1_button = widgets.Button(description=\"Classify\")\n",
    "t1_button.on_click(t1_func)\n",
    "form = widgets.VBox([image_id, t1_button, t1_output])"
   ]
  },
  {
   "cell_type": "markdown",
   "id": "ec30463c-7975-4572-899c-ab69016157e4",
   "metadata": {},
   "source": [
    "### Prediction form"
   ]
  },
  {
   "cell_type": "code",
   "execution_count": 16,
   "id": "cc5cbefe-0fd6-461d-bd92-3ab87d5fe8ee",
   "metadata": {},
   "outputs": [
    {
     "data": {
      "application/vnd.jupyter.widget-view+json": {
       "model_id": "290ec36d2a1d4964a7740d152a2190c9",
       "version_major": 2,
       "version_minor": 0
      },
      "text/plain": [
       "VBox(children=(BoundedIntText(value=7, description='Image id from dataset:', max=4200, style=DescriptionStyle(…"
      ]
     },
     "metadata": {},
     "output_type": "display_data"
    }
   ],
   "source": [
    "display(form)"
   ]
  }
 ],
 "metadata": {
  "kaggle": {
   "accelerator": "none",
   "dataSources": [
    {
     "databundleVersionId": 861823,
     "sourceId": 3004,
     "sourceType": "competition"
    }
   ],
   "dockerImageVersionId": 30886,
   "isGpuEnabled": false,
   "isInternetEnabled": true,
   "language": "python",
   "sourceType": "notebook"
  },
  "kernelspec": {
   "display_name": "Python 3 (ipykernel)",
   "language": "python",
   "name": "python3"
  },
  "language_info": {
   "codemirror_mode": {
    "name": "ipython",
    "version": 3
   },
   "file_extension": ".py",
   "mimetype": "text/x-python",
   "name": "python",
   "nbconvert_exporter": "python",
   "pygments_lexer": "ipython3",
   "version": "3.12.2"
  },
  "papermill": {
   "default_parameters": {},
   "duration": 221.789219,
   "end_time": "2025-02-16T19:51:53.252170",
   "environment_variables": {},
   "exception": null,
   "input_path": "__notebook__.ipynb",
   "output_path": "__notebook__.ipynb",
   "parameters": {},
   "start_time": "2025-02-16T19:48:11.462951",
   "version": "2.6.0"
  }
 },
 "nbformat": 4,
 "nbformat_minor": 5
}
