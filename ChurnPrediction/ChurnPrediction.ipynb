{
 "cells": [
  {
   "cell_type": "code",
   "execution_count": 1,
   "id": "98072d89-3816-4ebf-a48b-02f2ead91263",
   "metadata": {},
   "outputs": [],
   "source": [
    "import pandas as pd\n",
    "import numpy as np\n",
    "import matplotlib.pyplot as plt\n",
    "import seaborn as sns\n",
    "import sklearn\n",
    "from sklearn.linear_model import LogisticRegression\n",
    "from sklearn.ensemble import RandomForestClassifier\n",
    "from sklearn.svm import SVC\n",
    "import ipywidgets as widgets\n",
    "from IPython.display import display, clear_output\n",
    "from sklearn.model_selection import cross_val_score, train_test_split, RandomizedSearchCV, GridSearchCV\n",
    "from sklearn.preprocessing import LabelBinarizer\n",
    "from sklearn.decomposition import PCA\n",
    "from sklearn.metrics import f1_score, ConfusionMatrixDisplay, confusion_matrix, roc_auc_score, recall_score\n",
    "from lifelines import CoxPHFitter\n",
    "from sklearn.utils import class_weight\n",
    "from sklearn.base import BaseEstimator, TransformerMixin\n",
    "from xgboost import XGBClassifier\n",
    "from imblearn.over_sampling import SMOTE\n",
    "sns.set_theme(rc={'figure.figsize':(11.7,8.27)})"
   ]
  },
  {
   "cell_type": "code",
   "execution_count": 2,
   "id": "965787b1-ba77-48aa-9c19-fdfd6d89aae2",
   "metadata": {},
   "outputs": [],
   "source": [
    "df = pd.read_csv(\"./churn_dataset.csv\")"
   ]
  },
  {
   "cell_type": "code",
   "execution_count": 3,
   "id": "596013f3-0334-4041-9e60-1d433ac51c8e",
   "metadata": {},
   "outputs": [],
   "source": [
    "class DataPreprocessor(BaseEstimator, TransformerMixin):\n",
    "    def __init__(self):\n",
    "        self.columns_ = None  # Will hold fitted column names\n",
    "\n",
    "    def fit(self, X, y=None):\n",
    "        # Apply processing once to capture all columns after get_dummies\n",
    "        X_processed = self._process(X)\n",
    "        self.columns_ = X_processed.columns\n",
    "        return self\n",
    "\n",
    "    def transform(self, X):\n",
    "        X_processed = self._process(X)\n",
    "        # Ensure all training-time columns exist, fill missing with 0\n",
    "        return X_processed.reindex(columns=self.columns_, fill_value=0)\n",
    "    def fit_transform(self, X, y=None):\n",
    "        self.fit(X, y)\n",
    "        return self.transform(X)\n",
    "    def _process(self, df):\n",
    "        df = df.copy()\n",
    "\n",
    "        for col in [\"Partner\", \"Dependents\", \"PhoneService\", \"PaperlessBilling\", \"Churn\"]:\n",
    "            if col in df:\n",
    "                df[col] = df[col].map({\"No\": 0, \"Yes\": 1})\n",
    "        \n",
    "        internet_cols = [\"OnlineSecurity\", \"OnlineBackup\", \"DeviceProtection\", \"TechSupport\", \"StreamingTV\", \"StreamingMovies\"]\n",
    "        for col in internet_cols:\n",
    "            if col in df:\n",
    "                df[col] = df[col].map({\"No\": 0, \"No internet service\": 0, \"Yes\": 1})\n",
    "\n",
    "        if 'gender' in df:\n",
    "            df['gender'] = df['gender'].map({\"Male\": 0, \"Female\": 1})\n",
    "\n",
    "        if 'TotalCharges' in df:\n",
    "            df['TotalCharges'] = pd.to_numeric(df['TotalCharges'].astype(str).str.replace(\" \", \"0.0\"))\n",
    "\n",
    "        if 'MultipleLines' in df:\n",
    "            df['MultipleLines'] = df['MultipleLines'].map({\"No\": 0, \"No phone service\": 0, \"Yes\": 1})\n",
    "\n",
    "        # Drop customerID if present\n",
    "        df = df.drop(columns=['customerID'], errors='ignore')\n",
    "\n",
    "        df = pd.get_dummies(df, drop_first=True)\n",
    "        return df\n"
   ]
  },
  {
   "cell_type": "code",
   "execution_count": 4,
   "id": "36d3b1db-0d82-43d9-8583-52169a19fb1f",
   "metadata": {},
   "outputs": [],
   "source": [
    "dp = DataPreprocessor().fit(df)\n",
    "processed_df = DataPreprocessor().transform(df)"
   ]
  },
  {
   "cell_type": "markdown",
   "id": "c24670c4-0c26-43eb-9bd7-b81092361e44",
   "metadata": {},
   "source": [
    "## Classification"
   ]
  },
  {
   "cell_type": "markdown",
   "id": "bf754789-1a5e-4bfb-a318-137335f1094f",
   "metadata": {},
   "source": [
    "### Non-Oversampling"
   ]
  },
  {
   "cell_type": "code",
   "execution_count": 5,
   "id": "de9a8224-5d57-422d-b6a4-6f170356103a",
   "metadata": {},
   "outputs": [
    {
     "name": "stdout",
     "output_type": "stream",
     "text": [
      "X_train.shape=(6043, 23), y_train.shape=(6043,), X_test.shape=(1000, 23), y_test.shape=(1000,)\n"
     ]
    }
   ],
   "source": [
    "X = processed_df.drop(\"Churn\", axis=1)\n",
    "y = processed_df[\"Churn\"]\n",
    "X_train, X_test, y_train, y_test = train_test_split(X, y, test_size=1000)\n",
    "print(f\"{X_train.shape=}, {y_train.shape=}, {X_test.shape=}, {y_test.shape=}\")"
   ]
  },
  {
   "cell_type": "markdown",
   "id": "2c5cc26d-c115-4772-ad6c-d430545108cd",
   "metadata": {},
   "source": [
    "#### Logistic Regression"
   ]
  },
  {
   "cell_type": "code",
   "execution_count": 6,
   "id": "a89b90f5-c6a3-417b-8d3a-86f597425537",
   "metadata": {},
   "outputs": [
    {
     "name": "stdout",
     "output_type": "stream",
     "text": [
      "Model f1 score on Train Dataset: 0.6270037910618727\n",
      "Model f1 score on Test Dataset: 0.616793893129771\n",
      "Model ROC-AUC score on Test Dataset: 0.7421182167839135\n",
      "Model Recall score on Test Dataset:  0.7266187050359713\n"
     ]
    }
   ],
   "source": [
    "lr = LogisticRegression(max_iter=50000, C=1.0, class_weight='balanced', tol=0.01, random_state=42)\n",
    "scores = cross_val_score(lr, X_train, y_train, cv=5, scoring=\"f1\")\n",
    "lr.fit(X_train, y_train)\n",
    "y_pred = lr.predict(X_test)\n",
    "print(f\"Model f1 score on Train Dataset: {scores.mean()}\")\n",
    "print(f\"Model f1 score on Test Dataset: {f1_score(y_test, y_pred)}\")\n",
    "print(f\"Model ROC-AUC score on Test Dataset: {roc_auc_score(y_test, y_pred)}\")\n",
    "print(f\"Model Recall score on Test Dataset:  {recall_score(y_test, y_pred)}\")"
   ]
  },
  {
   "cell_type": "code",
   "execution_count": 7,
   "id": "c819a246-c11a-47c2-8087-e77cc664bbba",
   "metadata": {},
   "outputs": [
    {
     "data": {
      "image/png": "[encoded data removed]",
      "text/plain": [
       "<Figure size 1170x827 with 2 Axes>"
      ]
     },
     "metadata": {},
     "output_type": "display_data"
    }
   ],
   "source": [
    "cm = confusion_matrix(y_test, y_pred)\n",
    "cmd = ConfusionMatrixDisplay(cm).from_predictions(y_test, y_pred, display_labels=[\"Don't Churn\", \"Churn\"])\n",
    "plt.show()"
   ]
  },
  {
   "cell_type": "markdown",
   "id": "b2df7aa7-89ab-4b82-b6ad-0ca1f8ace1ff",
   "metadata": {
    "jp-MarkdownHeadingCollapsed": true
   },
   "source": [
    "#### Random Forest"
   ]
  },
  {
   "cell_type": "code",
   "execution_count": 8,
   "id": "2c7ec0d4-7a29-4474-8d77-12acecea86ee",
   "metadata": {},
   "outputs": [
    {
     "name": "stdout",
     "output_type": "stream",
     "text": [
      "Model f1 score on Train Dataset: 0.6274202767127434\n",
      "Model f1 score on Test Dataset: 0.664624808575804\n",
      "Model ROC-AUC score on Test Dataset: 0.7808694872356963\n",
      "Model Recall score on Test Dataset:  0.7805755395683454\n"
     ]
    }
   ],
   "source": [
    "rf = RandomForestClassifier(n_estimators=100, max_depth=10, min_samples_split=2, min_samples_leaf=10, n_jobs=-1, class_weight='balanced', random_state=42)\n",
    "scores = cross_val_score(rf, X_train, y_train, cv=5, scoring=\"f1\")\n",
    "rf.fit(X_train, y_train)\n",
    "y_pred = rf.predict(X_test)\n",
    "print(f\"Model f1 score on Train Dataset: {scores.mean()}\")\n",
    "print(f\"Model f1 score on Test Dataset: {f1_score(y_test, y_pred)}\")\n",
    "print(f\"Model ROC-AUC score on Test Dataset: {roc_auc_score(y_test, y_pred)}\")\n",
    "print(f\"Model Recall score on Test Dataset:  {recall_score(y_test, y_pred)}\")"
   ]
  },
  {
   "cell_type": "code",
   "execution_count": 9,
   "id": "55c7241a-de17-4f25-b7de-679511d26ca4",
   "metadata": {},
   "outputs": [
    {
     "data": {
      "image/png": "[encoded data removed]",
      "text/plain": [
       "<Figure size 1170x827 with 2 Axes>"
      ]
     },
     "metadata": {},
     "output_type": "display_data"
    }
   ],
   "source": [
    "cm = confusion_matrix(y_test, y_pred)\n",
    "cmd = ConfusionMatrixDisplay(cm).from_predictions(y_test, y_pred, display_labels=[\"Don't Churn\", \"Churn\"])\n",
    "plt.show()"
   ]
  },
  {
   "cell_type": "markdown",
   "id": "2dc3ebed-9cc5-44f6-b675-b125d3422db8",
   "metadata": {
    "jp-MarkdownHeadingCollapsed": true
   },
   "source": [
    "#### SVM"
   ]
  },
  {
   "cell_type": "code",
   "execution_count": 10,
   "id": "fa2b9f12-78a9-4c82-87da-89d511bfc969",
   "metadata": {},
   "outputs": [
    {
     "name": "stdout",
     "output_type": "stream",
     "text": [
      "Model f1 score on Train Dataset: 0.5792184247993115\n",
      "Model f1 score on Test Dataset: 0.6035502958579881\n",
      "Model ROC-AUC score on Test Dataset: 0.7325574443492298\n",
      "Model Recall score on Test Dataset:  0.7338129496402878\n"
     ]
    }
   ],
   "source": [
    "svc = SVC(C=50.0, kernel='rbf', class_weight='balanced', random_state=42)\n",
    "scores = cross_val_score(svc, X_train, y_train, cv=5, scoring=\"f1\", n_jobs=-1)\n",
    "svc.fit(X_train, y_train)\n",
    "y_pred = svc.predict(X_test)\n",
    "print(f\"Model f1 score on Train Dataset: {scores.mean()}\")\n",
    "print(f\"Model f1 score on Test Dataset: {f1_score(y_test, y_pred)}\")\n",
    "print(f\"Model ROC-AUC score on Test Dataset: {roc_auc_score(y_test, y_pred)}\")\n",
    "print(f\"Model Recall score on Test Dataset:  {recall_score(y_test, y_pred)}\")"
   ]
  },
  {
   "cell_type": "code",
   "execution_count": 11,
   "id": "a4a9840b-3183-415f-b9bf-90c47ebd5b0f",
   "metadata": {},
   "outputs": [
    {
     "data": {
      "image/png": "[encoded data removed]",
      "text/plain": [
       "<Figure size 1170x827 with 2 Axes>"
      ]
     },
     "metadata": {},
     "output_type": "display_data"
    }
   ],
   "source": [
    "cm = confusion_matrix(y_test, y_pred)\n",
    "cmd = ConfusionMatrixDisplay(cm).from_predictions(y_test, y_pred, display_labels=[\"Don't Churn\", \"Churn\"])\n",
    "plt.show()"
   ]
  },
  {
   "cell_type": "markdown",
   "id": "7b483f73-91ae-4648-a46f-972a451296ef",
   "metadata": {
    "jp-MarkdownHeadingCollapsed": true
   },
   "source": [
    "#### Gradient Boosting"
   ]
  },
  {
   "cell_type": "code",
   "execution_count": 12,
   "id": "f5307d29-1af0-46bc-8daf-6a1ee765d2e9",
   "metadata": {},
   "outputs": [
    {
     "name": "stdout",
     "output_type": "stream",
     "text": [
      "Uncoment to search best parameters\n"
     ]
    }
   ],
   "source": [
    "\"\"\"\n",
    "### Uncoment to search best parameters ###\n",
    "param_dist = {\n",
    "    \"n_estimators\": [100, 200, 500],\n",
    "    \"max_depth\": [3, 5, 7, 10],\n",
    "    \"learning_rate\": [0.01, 0.05, 0.1],\n",
    "    \"subsample\": [0.7, 0.8, 1.0],\n",
    "    \"colsample_bytree\": [0.7, 0.9, 1.0],\n",
    "    \"gamma\": [0, 0.1, 0.5],\n",
    "    \"min_child_weight\": [1, 3, 5],\n",
    "    \"reg_alpha\": [0, 0.1, 1.0],\n",
    "    \"reg_lambda\": [1.0, 5.0, 10.0],\n",
    "    \"scale_pos_weight\": [1, 3, 5]\n",
    "}\n",
    "\n",
    "xgb = XGBClassifier(eval_metric=\"logloss\", random_state=24)\n",
    "\n",
    "search = RandomizedSearchCV(\n",
    "    xgb,\n",
    "    param_distributions=param_dist,\n",
    "    n_iter=1000,\n",
    "    scoring=\"f1\",\n",
    "    cv=5,\n",
    "    random_state=42,\n",
    "    n_jobs=-1\n",
    ")\n",
    "\n",
    "search.fit(X_train, y_train)\n",
    "print(search.best_params_)\n",
    "\"\"\"\n",
    "print(\"Uncoment to search best parameters\")"
   ]
  },
  {
   "cell_type": "code",
   "execution_count": 13,
   "id": "80dcb800-2302-48da-9f9d-dc31a0511fdc",
   "metadata": {},
   "outputs": [
    {
     "name": "stdout",
     "output_type": "stream",
     "text": [
      "Model f1 score on Train Dataset: 0.6273852717520715\n",
      "Model f1 score on Test Dataset: 0.660844250363901\n",
      "Model ROC-AUC score on Test Dataset: 0.782234600131529\n",
      "Model Recall score on Test Dataset:  0.8165467625899281\n"
     ]
    }
   ],
   "source": [
    "best_params = {\n",
    "    'subsample': 0.7, \n",
    "    'scale_pos_weight': 3, \n",
    "    'reg_lambda': 10.0, \n",
    "    'reg_alpha': 0.1, \n",
    "    'n_estimators': 200, \n",
    "    'min_child_weight': 3, \n",
    "    'max_depth': 7, \n",
    "    'learning_rate': 0.01, \n",
    "    'gamma': 0, \n",
    "    'colsample_bytree': 0.7\n",
    "}\n",
    "xgb = XGBClassifier(**best_params)\n",
    "scores = cross_val_score(xgb, X_train, y_train, cv=5, scoring=\"f1\")\n",
    "xgb.fit(X_train, y_train)\n",
    "y_pred = xgb.predict(X_test)\n",
    "print(f\"Model f1 score on Train Dataset: {scores.mean()}\")\n",
    "print(f\"Model f1 score on Test Dataset: {f1_score(y_test, y_pred)}\")\n",
    "print(f\"Model ROC-AUC score on Test Dataset: {roc_auc_score(y_test, y_pred)}\")\n",
    "print(f\"Model Recall score on Test Dataset:  {recall_score(y_test, y_pred)}\")"
   ]
  },
  {
   "cell_type": "markdown",
   "id": "248e664f-3830-4066-ab90-f334be8154ef",
   "metadata": {},
   "source": [
    "### Oversampling"
   ]
  },
  {
   "cell_type": "code",
   "execution_count": 14,
   "id": "1b4cae8b-35c9-49c7-b166-0650c1c41676",
   "metadata": {},
   "outputs": [
    {
     "name": "stdout",
     "output_type": "stream",
     "text": [
      "X_train_resampled.shape=(8868, 23), y_train_resampled.shape=(8868,), X_train.shape=(6043, 23), y_train.shape=(6043,), X_test.shape=(1000, 23), y_test.shape=(1000,)\n"
     ]
    }
   ],
   "source": [
    "sm = SMOTE(random_state=42)\n",
    "X_train, X_test, y_train, y_test = train_test_split(X, y, test_size=1000)\n",
    "X_train_resampled, y_train_resampled = sm.fit_resample(X_train, y_train)\n",
    "print(f\"{X_train_resampled.shape=}, {y_train_resampled.shape=}, {X_train.shape=}, {y_train.shape=}, {X_test.shape=}, {y_test.shape=}\")"
   ]
  },
  {
   "cell_type": "code",
   "execution_count": 15,
   "id": "9a929ae9-61c9-4243-abe0-809df720d864",
   "metadata": {},
   "outputs": [
    {
     "data": {
      "image/png": "[encoded data removed]",
      "text/plain": [
       "<Figure size 1200x600 with 2 Axes>"
      ]
     },
     "metadata": {},
     "output_type": "display_data"
    }
   ],
   "source": [
    "fig, (ax1, ax2) = plt.subplots(ncols=2, nrows=1, figsize=(12, 6))\n",
    "ax1.pie(df[\"Churn\"].value_counts(), labels=[\"No\", \"Yes\"], autopct='%1.1f%%', colors=['#33a02d', '#db5f57'])\n",
    "ax1.set_title(\"Churn Class Balance Before Oversampling\")\n",
    "ax2.pie(y_train_resampled.value_counts(), labels=[\"No\", \"Yes\"], autopct='%1.1f%%', colors=['#33a02d', '#db5f57'])\n",
    "ax2.set_title(\"Churn Class Balance After Oversampling\")\n",
    "plt.show()"
   ]
  },
  {
   "cell_type": "markdown",
   "id": "06bb2344-d122-463f-92ad-3a5ff197b744",
   "metadata": {
    "jp-MarkdownHeadingCollapsed": true
   },
   "source": [
    "#### Logistic Regression"
   ]
  },
  {
   "cell_type": "code",
   "execution_count": 16,
   "id": "b124ac36-3c9a-41d6-ae71-30fd2ef404f5",
   "metadata": {},
   "outputs": [
    {
     "name": "stdout",
     "output_type": "stream",
     "text": [
      "Model f1 score on Train Dataset: 0.7982806518298464\n",
      "Model f1 score on Test Dataset: 0.5679012345679012\n",
      "Model ROC-AUC score on Test Dataset: 0.710966735966736\n",
      "Model Recall score on Test Dataset:  0.6192307692307693\n"
     ]
    }
   ],
   "source": [
    "log_reg = LogisticRegression(max_iter=50000, C=1.0, class_weight='balanced', tol=0.01, random_state=42)\n",
    "scores = cross_val_score(log_reg, X_train_resampled, y_train_resampled , cv=5, scoring=\"f1\")\n",
    "log_reg.fit(X_train_resampled, y_train_resampled )\n",
    "y_pred = log_reg.predict(X_test)\n",
    "print(f\"Model f1 score on Train Dataset: {scores.mean()}\")\n",
    "print(f\"Model f1 score on Test Dataset: {f1_score(y_test, y_pred)}\")\n",
    "print(f\"Model ROC-AUC score on Test Dataset: {roc_auc_score(y_test, y_pred)}\")\n",
    "print(f\"Model Recall score on Test Dataset:  {recall_score(y_test, y_pred)}\")"
   ]
  },
  {
   "cell_type": "code",
   "execution_count": 17,
   "id": "e64eceef-81e9-460b-8bd6-7bd59bd77bf7",
   "metadata": {},
   "outputs": [
    {
     "data": {
      "image/png": "[encoded data removed]",
      "text/plain": [
       "<Figure size 1170x827 with 2 Axes>"
      ]
     },
     "metadata": {},
     "output_type": "display_data"
    }
   ],
   "source": [
    "cm = confusion_matrix(y_test, y_pred)\n",
    "cmd = ConfusionMatrixDisplay(cm).from_predictions(y_test, y_pred, display_labels=[\"Don't Churn\", \"Churn\"])\n",
    "plt.show()"
   ]
  },
  {
   "cell_type": "markdown",
   "id": "4acf5da4-1c2c-49e1-93b5-5ae2bd3861ab",
   "metadata": {
    "jp-MarkdownHeadingCollapsed": true
   },
   "source": [
    "#### Random Forest"
   ]
  },
  {
   "cell_type": "code",
   "execution_count": 18,
   "id": "5c6c431a-d923-49c4-ac48-25bd2b09b988",
   "metadata": {},
   "outputs": [
    {
     "name": "stdout",
     "output_type": "stream",
     "text": [
      "Model f1 score on Train Dataset: 0.8159341336335395\n",
      "Model f1 score on Test Dataset: 0.5886402753872634\n",
      "Model ROC-AUC score on Test Dataset: 0.7274948024948024\n",
      "Model Recall score on Test Dataset:  0.6576923076923077\n"
     ]
    }
   ],
   "source": [
    "rf = RandomForestClassifier(n_estimators=100, max_depth=10, min_samples_split=2, min_samples_leaf=10, n_jobs=-1, class_weight='balanced', random_state=42)\n",
    "scores = cross_val_score(rf, X_train_resampled, y_train_resampled , cv=5, scoring=\"f1\")\n",
    "rf.fit(X_train_resampled, y_train_resampled )\n",
    "y_pred = rf.predict(X_test)\n",
    "print(f\"Model f1 score on Train Dataset: {scores.mean()}\")\n",
    "print(f\"Model f1 score on Test Dataset: {f1_score(y_test, y_pred)}\")\n",
    "print(f\"Model ROC-AUC score on Test Dataset: {roc_auc_score(y_test, y_pred)}\")\n",
    "print(f\"Model Recall score on Test Dataset:  {recall_score(y_test, y_pred)}\")"
   ]
  },
  {
   "cell_type": "code",
   "execution_count": 19,
   "id": "9c14d30e-73cd-4e72-9f54-4343fbded91b",
   "metadata": {},
   "outputs": [
    {
     "data": {
      "image/png": "[encoded data removed]",
      "text/plain": [
       "<Figure size 1170x827 with 2 Axes>"
      ]
     },
     "metadata": {},
     "output_type": "display_data"
    }
   ],
   "source": [
    "cm = confusion_matrix(y_test, y_pred)\n",
    "cmd = ConfusionMatrixDisplay(cm).from_predictions(y_test, y_pred, display_labels=[\"Don't Churn\", \"Churn\"])\n",
    "plt.show()"
   ]
  },
  {
   "cell_type": "markdown",
   "id": "1a90e192-f733-40c6-941e-bedbd6ba2695",
   "metadata": {
    "jp-MarkdownHeadingCollapsed": true
   },
   "source": [
    "#### SVM"
   ]
  },
  {
   "cell_type": "code",
   "execution_count": 20,
   "id": "c4b1f018-daf8-4804-ba22-eb5a1934867f",
   "metadata": {},
   "outputs": [
    {
     "name": "stdout",
     "output_type": "stream",
     "text": [
      "Model f1 score on Train Dataset: 0.7485576854228663\n",
      "Model f1 score on Test Dataset: 0.5462555066079295\n",
      "Model ROC-AUC score on Test Dataset: 0.698908523908524\n",
      "Model Recall score on Test Dataset:  0.7153846153846154\n"
     ]
    }
   ],
   "source": [
    "svc = SVC(C=50.0, kernel='rbf', class_weight='balanced', random_state=42)\n",
    "scores = cross_val_score(svc, X_train_resampled, y_train_resampled , cv=5, scoring=\"f1\", n_jobs=-1)\n",
    "svc.fit(X_train_resampled, y_train_resampled )\n",
    "y_pred = svc.predict(X_test)\n",
    "print(f\"Model f1 score on Train Dataset: {scores.mean()}\")\n",
    "print(f\"Model f1 score on Test Dataset: {f1_score(y_test, y_pred)}\")\n",
    "print(f\"Model ROC-AUC score on Test Dataset: {roc_auc_score(y_test, y_pred)}\")\n",
    "print(f\"Model Recall score on Test Dataset:  {recall_score(y_test, y_pred)}\")"
   ]
  },
  {
   "cell_type": "code",
   "execution_count": 21,
   "id": "cd4e7cc7-fdf4-4c5f-94d0-3bec91c5b045",
   "metadata": {},
   "outputs": [
    {
     "data": {
      "image/png": "[encoded data removed]",
      "text/plain": [
       "<Figure size 1170x827 with 2 Axes>"
      ]
     },
     "metadata": {},
     "output_type": "display_data"
    }
   ],
   "source": [
    "cm = confusion_matrix(y_test, y_pred)\n",
    "cmd = ConfusionMatrixDisplay(cm).from_predictions(y_test, y_pred, display_labels=[\"Don't Churn\", \"Churn\"])\n",
    "plt.show()"
   ]
  },
  {
   "cell_type": "markdown",
   "id": "4ad0807d-d321-481e-a6de-4a3fd49bdda7",
   "metadata": {
    "jp-MarkdownHeadingCollapsed": true
   },
   "source": [
    "#### Gradient Boosting"
   ]
  },
  {
   "cell_type": "code",
   "execution_count": 22,
   "id": "f6db7ade-246c-467f-9acb-fe89ad72f917",
   "metadata": {},
   "outputs": [
    {
     "name": "stdout",
     "output_type": "stream",
     "text": [
      "Uncoment to search best parameters\n"
     ]
    }
   ],
   "source": [
    "\"\"\"\n",
    "### Uncoment to search best parameters ###\n",
    "param_dist = {\n",
    "    \"n_estimators\": [100, 200, 500],\n",
    "    \"max_depth\": [3, 5, 7, 10],\n",
    "    \"learning_rate\": [0.01, 0.05, 0.1],\n",
    "    \"subsample\": [0.7, 0.8, 1.0],\n",
    "    \"colsample_bytree\": [0.7, 0.9, 1.0],\n",
    "    \"gamma\": [0, 0.1, 0.5],\n",
    "    \"min_child_weight\": [1, 3, 5],\n",
    "    \"reg_alpha\": [0, 0.1, 1.0],\n",
    "    \"reg_lambda\": [1.0, 5.0, 10.0],\n",
    "    \"scale_pos_weight\": [1, 3, 5]\n",
    "}\n",
    "\n",
    "xgb = XGBClassifier(eval_metric=\"logloss\", random_state=24)\n",
    "\n",
    "search = RandomizedSearchCV(\n",
    "    xgb,\n",
    "    param_distributions=param_dist,\n",
    "    n_iter=100,\n",
    "    scoring=\"f1\",\n",
    "    cv=5,\n",
    "    random_state=42,\n",
    "    n_jobs=-1\n",
    ")\n",
    "\n",
    "search.fit(X_train_resampled, y_train_resampled )\n",
    "print(search.best_params_)\n",
    "\"\"\"\n",
    "print(\"Uncoment to search best parameters\")"
   ]
  },
  {
   "cell_type": "code",
   "execution_count": 23,
   "id": "6e8075ce-c9cf-4472-8c43-38ec4cca64e4",
   "metadata": {},
   "outputs": [
    {
     "name": "stdout",
     "output_type": "stream",
     "text": [
      "Model f1 score on Train Dataset: 0.8050122558253886\n",
      "Model f1 score on Test Dataset: 0.6125574272588055\n",
      "Model ROC-AUC score on Test Dataset: 0.7542099792099792\n",
      "Model Recall score on Test Dataset:  0.7692307692307693\n"
     ]
    }
   ],
   "source": [
    "best_params = {\n",
    "    'subsample': 0.7, \n",
    "    'scale_pos_weight': 3, \n",
    "    'reg_lambda': 10.0, \n",
    "    'reg_alpha': 0.1, \n",
    "    'n_estimators': 200, \n",
    "    'min_child_weight': 3, \n",
    "    'max_depth': 7, \n",
    "    'learning_rate': 0.01, \n",
    "    'gamma': 0, \n",
    "    'colsample_bytree': 0.7\n",
    "}\n",
    "xgb = XGBClassifier(**best_params)\n",
    "scores = cross_val_score(xgb, X_train_resampled, y_train_resampled , cv=5, scoring=\"f1\")\n",
    "xgb.fit(X_train, y_train)\n",
    "y_pred = xgb.predict(X_test)\n",
    "print(f\"Model f1 score on Train Dataset: {scores.mean()}\")\n",
    "print(f\"Model f1 score on Test Dataset: {f1_score(y_test, y_pred)}\")\n",
    "print(f\"Model ROC-AUC score on Test Dataset: {roc_auc_score(y_test, y_pred)}\")\n",
    "print(f\"Model Recall score on Test Dataset:  {recall_score(y_test, y_pred)}\")"
   ]
  },
  {
   "cell_type": "code",
   "execution_count": 24,
   "id": "37948400-17dd-4997-b3c4-10a314acad25",
   "metadata": {},
   "outputs": [
    {
     "data": {
      "image/png": "[encoded data removed]",
      "text/plain": [
       "<Figure size 1170x827 with 2 Axes>"
      ]
     },
     "metadata": {},
     "output_type": "display_data"
    }
   ],
   "source": [
    "cm = confusion_matrix(y_test, y_pred)\n",
    "cmd = ConfusionMatrixDisplay(cm).from_predictions(y_test, y_pred, display_labels=[\"Don't Churn\", \"Churn\"])\n",
    "plt.show()"
   ]
  },
  {
   "cell_type": "markdown",
   "id": "c843f98f-0077-42f9-a55d-02b712a3a1dc",
   "metadata": {},
   "source": [
    "## Survival Analysis"
   ]
  },
  {
   "cell_type": "markdown",
   "id": "8e7ec033-227e-4b94-bffd-81991b4b5748",
   "metadata": {},
   "source": [
    "### Cox Regression"
   ]
  },
  {
   "cell_type": "code",
   "execution_count": 25,
   "id": "0f463596-8d52-4e0e-95ac-302dabaa28b0",
   "metadata": {},
   "outputs": [],
   "source": [
    "train_df, test_df_X, test_df_y = processed_df.iloc[:6043], processed_df.iloc[6043:].drop(\"Churn\", axis=1).reset_index(drop=True), processed_df.iloc[6043:][\"Churn\"].reset_index(drop=True)"
   ]
  },
  {
   "cell_type": "code",
   "execution_count": 26,
   "id": "3211c33d-851b-48f0-bf26-f00f8d5a5da7",
   "metadata": {},
   "outputs": [
    {
     "data": {
      "text/html": [
       "<div>\n",
       "<style scoped>\n",
       "    .dataframe tbody tr th:only-of-type {\n",
       "        vertical-align: middle;\n",
       "    }\n",
       "\n",
       "    .dataframe tbody tr th {\n",
       "        vertical-align: top;\n",
       "    }\n",
       "\n",
       "    .dataframe thead th {\n",
       "        text-align: right;\n",
       "    }\n",
       "</style>\n",
       "<table border=\"1\" class=\"dataframe\">\n",
       "  <tbody>\n",
       "    <tr>\n",
       "      <th>model</th>\n",
       "      <td>lifelines.CoxPHFitter</td>\n",
       "    </tr>\n",
       "    <tr>\n",
       "      <th>duration col</th>\n",
       "      <td>'tenure'</td>\n",
       "    </tr>\n",
       "    <tr>\n",
       "      <th>event col</th>\n",
       "      <td>'Churn'</td>\n",
       "    </tr>\n",
       "    <tr>\n",
       "      <th>baseline estimation</th>\n",
       "      <td>breslow</td>\n",
       "    </tr>\n",
       "    <tr>\n",
       "      <th>number of observations</th>\n",
       "      <td>6043</td>\n",
       "    </tr>\n",
       "    <tr>\n",
       "      <th>number of events observed</th>\n",
       "      <td>1599</td>\n",
       "    </tr>\n",
       "    <tr>\n",
       "      <th>partial log-likelihood</th>\n",
       "      <td>-10566.00</td>\n",
       "    </tr>\n",
       "    <tr>\n",
       "      <th>time fit was run</th>\n",
       "      <td>2025-06-27 16:21:45 UTC</td>\n",
       "    </tr>\n",
       "  </tbody>\n",
       "</table>\n",
       "</div><table border=\"1\" class=\"dataframe\">\n",
       "  <thead>\n",
       "    <tr style=\"text-align: right;\">\n",
       "      <th style=\"min-width: 12px;\"></th>\n",
       "      <th style=\"min-width: 12px;\">coef</th>\n",
       "      <th style=\"min-width: 12px;\">exp(coef)</th>\n",
       "      <th style=\"min-width: 12px;\">se(coef)</th>\n",
       "      <th style=\"min-width: 12px;\">coef lower 95%</th>\n",
       "      <th style=\"min-width: 12px;\">coef upper 95%</th>\n",
       "      <th style=\"min-width: 12px;\">exp(coef) lower 95%</th>\n",
       "      <th style=\"min-width: 12px;\">exp(coef) upper 95%</th>\n",
       "      <th style=\"min-width: 12px;\">cmp to</th>\n",
       "      <th style=\"min-width: 12px;\">z</th>\n",
       "      <th style=\"min-width: 12px;\">p</th>\n",
       "      <th style=\"min-width: 12px;\">-log2(p)</th>\n",
       "    </tr>\n",
       "  </thead>\n",
       "  <tbody>\n",
       "    <tr>\n",
       "      <th>gender</th>\n",
       "      <td>0.06</td>\n",
       "      <td>1.06</td>\n",
       "      <td>0.05</td>\n",
       "      <td>-0.04</td>\n",
       "      <td>0.16</td>\n",
       "      <td>0.96</td>\n",
       "      <td>1.17</td>\n",
       "      <td>0.00</td>\n",
       "      <td>1.23</td>\n",
       "      <td>0.22</td>\n",
       "      <td>2.19</td>\n",
       "    </tr>\n",
       "    <tr>\n",
       "      <th>SeniorCitizen</th>\n",
       "      <td>0.03</td>\n",
       "      <td>1.03</td>\n",
       "      <td>0.06</td>\n",
       "      <td>-0.09</td>\n",
       "      <td>0.15</td>\n",
       "      <td>0.92</td>\n",
       "      <td>1.16</td>\n",
       "      <td>0.00</td>\n",
       "      <td>0.52</td>\n",
       "      <td>0.61</td>\n",
       "      <td>0.72</td>\n",
       "    </tr>\n",
       "    <tr>\n",
       "      <th>Partner</th>\n",
       "      <td>-0.16</td>\n",
       "      <td>0.85</td>\n",
       "      <td>0.06</td>\n",
       "      <td>-0.28</td>\n",
       "      <td>-0.04</td>\n",
       "      <td>0.76</td>\n",
       "      <td>0.96</td>\n",
       "      <td>0.00</td>\n",
       "      <td>-2.70</td>\n",
       "      <td>0.01</td>\n",
       "      <td>7.17</td>\n",
       "    </tr>\n",
       "    <tr>\n",
       "      <th>Dependents</th>\n",
       "      <td>-0.08</td>\n",
       "      <td>0.92</td>\n",
       "      <td>0.08</td>\n",
       "      <td>-0.23</td>\n",
       "      <td>0.07</td>\n",
       "      <td>0.79</td>\n",
       "      <td>1.07</td>\n",
       "      <td>0.00</td>\n",
       "      <td>-1.07</td>\n",
       "      <td>0.28</td>\n",
       "      <td>1.82</td>\n",
       "    </tr>\n",
       "    <tr>\n",
       "      <th>PhoneService</th>\n",
       "      <td>1.00</td>\n",
       "      <td>2.71</td>\n",
       "      <td>0.51</td>\n",
       "      <td>-0.01</td>\n",
       "      <td>2.00</td>\n",
       "      <td>0.99</td>\n",
       "      <td>7.42</td>\n",
       "      <td>0.00</td>\n",
       "      <td>1.94</td>\n",
       "      <td>0.05</td>\n",
       "      <td>4.25</td>\n",
       "    </tr>\n",
       "    <tr>\n",
       "      <th>MultipleLines</th>\n",
       "      <td>0.14</td>\n",
       "      <td>1.15</td>\n",
       "      <td>0.14</td>\n",
       "      <td>-0.13</td>\n",
       "      <td>0.41</td>\n",
       "      <td>0.88</td>\n",
       "      <td>1.50</td>\n",
       "      <td>0.00</td>\n",
       "      <td>1.03</td>\n",
       "      <td>0.30</td>\n",
       "      <td>1.73</td>\n",
       "    </tr>\n",
       "    <tr>\n",
       "      <th>OnlineSecurity</th>\n",
       "      <td>-0.17</td>\n",
       "      <td>0.85</td>\n",
       "      <td>0.14</td>\n",
       "      <td>-0.45</td>\n",
       "      <td>0.11</td>\n",
       "      <td>0.64</td>\n",
       "      <td>1.12</td>\n",
       "      <td>0.00</td>\n",
       "      <td>-1.17</td>\n",
       "      <td>0.24</td>\n",
       "      <td>2.04</td>\n",
       "    </tr>\n",
       "    <tr>\n",
       "      <th>OnlineBackup</th>\n",
       "      <td>-0.00</td>\n",
       "      <td>1.00</td>\n",
       "      <td>0.14</td>\n",
       "      <td>-0.28</td>\n",
       "      <td>0.27</td>\n",
       "      <td>0.76</td>\n",
       "      <td>1.31</td>\n",
       "      <td>0.00</td>\n",
       "      <td>-0.03</td>\n",
       "      <td>0.98</td>\n",
       "      <td>0.03</td>\n",
       "    </tr>\n",
       "    <tr>\n",
       "      <th>DeviceProtection</th>\n",
       "      <td>0.15</td>\n",
       "      <td>1.16</td>\n",
       "      <td>0.14</td>\n",
       "      <td>-0.12</td>\n",
       "      <td>0.41</td>\n",
       "      <td>0.89</td>\n",
       "      <td>1.51</td>\n",
       "      <td>0.00</td>\n",
       "      <td>1.07</td>\n",
       "      <td>0.28</td>\n",
       "      <td>1.81</td>\n",
       "    </tr>\n",
       "    <tr>\n",
       "      <th>TechSupport</th>\n",
       "      <td>-0.05</td>\n",
       "      <td>0.95</td>\n",
       "      <td>0.14</td>\n",
       "      <td>-0.33</td>\n",
       "      <td>0.23</td>\n",
       "      <td>0.72</td>\n",
       "      <td>1.26</td>\n",
       "      <td>0.00</td>\n",
       "      <td>-0.33</td>\n",
       "      <td>0.74</td>\n",
       "      <td>0.43</td>\n",
       "    </tr>\n",
       "    <tr>\n",
       "      <th>StreamingTV</th>\n",
       "      <td>0.41</td>\n",
       "      <td>1.51</td>\n",
       "      <td>0.26</td>\n",
       "      <td>-0.09</td>\n",
       "      <td>0.92</td>\n",
       "      <td>0.92</td>\n",
       "      <td>2.50</td>\n",
       "      <td>0.00</td>\n",
       "      <td>1.62</td>\n",
       "      <td>0.10</td>\n",
       "      <td>3.26</td>\n",
       "    </tr>\n",
       "    <tr>\n",
       "      <th>StreamingMovies</th>\n",
       "      <td>0.39</td>\n",
       "      <td>1.47</td>\n",
       "      <td>0.26</td>\n",
       "      <td>-0.12</td>\n",
       "      <td>0.89</td>\n",
       "      <td>0.89</td>\n",
       "      <td>2.43</td>\n",
       "      <td>0.00</td>\n",
       "      <td>1.50</td>\n",
       "      <td>0.13</td>\n",
       "      <td>2.91</td>\n",
       "    </tr>\n",
       "    <tr>\n",
       "      <th>PaperlessBilling</th>\n",
       "      <td>0.16</td>\n",
       "      <td>1.18</td>\n",
       "      <td>0.06</td>\n",
       "      <td>0.04</td>\n",
       "      <td>0.28</td>\n",
       "      <td>1.04</td>\n",
       "      <td>1.33</td>\n",
       "      <td>0.00</td>\n",
       "      <td>2.63</td>\n",
       "      <td>0.01</td>\n",
       "      <td>6.86</td>\n",
       "    </tr>\n",
       "    <tr>\n",
       "      <th>MonthlyCharges</th>\n",
       "      <td>0.00</td>\n",
       "      <td>1.00</td>\n",
       "      <td>0.02</td>\n",
       "      <td>-0.05</td>\n",
       "      <td>0.05</td>\n",
       "      <td>0.95</td>\n",
       "      <td>1.05</td>\n",
       "      <td>0.00</td>\n",
       "      <td>0.07</td>\n",
       "      <td>0.94</td>\n",
       "      <td>0.09</td>\n",
       "    </tr>\n",
       "    <tr>\n",
       "      <th>TotalCharges</th>\n",
       "      <td>-0.00</td>\n",
       "      <td>1.00</td>\n",
       "      <td>0.00</td>\n",
       "      <td>-0.00</td>\n",
       "      <td>-0.00</td>\n",
       "      <td>1.00</td>\n",
       "      <td>1.00</td>\n",
       "      <td>0.00</td>\n",
       "      <td>-36.23</td>\n",
       "      <td>&lt;0.005</td>\n",
       "      <td>952.30</td>\n",
       "    </tr>\n",
       "    <tr>\n",
       "      <th>InternetService_Fiber optic</th>\n",
       "      <td>1.32</td>\n",
       "      <td>3.74</td>\n",
       "      <td>0.63</td>\n",
       "      <td>0.09</td>\n",
       "      <td>2.55</td>\n",
       "      <td>1.09</td>\n",
       "      <td>12.85</td>\n",
       "      <td>0.00</td>\n",
       "      <td>2.10</td>\n",
       "      <td>0.04</td>\n",
       "      <td>4.79</td>\n",
       "    </tr>\n",
       "    <tr>\n",
       "      <th>InternetService_No</th>\n",
       "      <td>-2.63</td>\n",
       "      <td>0.07</td>\n",
       "      <td>0.65</td>\n",
       "      <td>-3.89</td>\n",
       "      <td>-1.36</td>\n",
       "      <td>0.02</td>\n",
       "      <td>0.26</td>\n",
       "      <td>0.00</td>\n",
       "      <td>-4.07</td>\n",
       "      <td>&lt;0.005</td>\n",
       "      <td>14.35</td>\n",
       "    </tr>\n",
       "    <tr>\n",
       "      <th>Contract_One year</th>\n",
       "      <td>-1.28</td>\n",
       "      <td>0.28</td>\n",
       "      <td>0.11</td>\n",
       "      <td>-1.50</td>\n",
       "      <td>-1.06</td>\n",
       "      <td>0.22</td>\n",
       "      <td>0.35</td>\n",
       "      <td>0.00</td>\n",
       "      <td>-11.61</td>\n",
       "      <td>&lt;0.005</td>\n",
       "      <td>101.10</td>\n",
       "    </tr>\n",
       "    <tr>\n",
       "      <th>Contract_Two year</th>\n",
       "      <td>-3.80</td>\n",
       "      <td>0.02</td>\n",
       "      <td>0.22</td>\n",
       "      <td>-4.24</td>\n",
       "      <td>-3.37</td>\n",
       "      <td>0.01</td>\n",
       "      <td>0.03</td>\n",
       "      <td>0.00</td>\n",
       "      <td>-17.13</td>\n",
       "      <td>&lt;0.005</td>\n",
       "      <td>216.15</td>\n",
       "    </tr>\n",
       "    <tr>\n",
       "      <th>PaymentMethod_Credit card (automatic)</th>\n",
       "      <td>0.01</td>\n",
       "      <td>1.01</td>\n",
       "      <td>0.10</td>\n",
       "      <td>-0.18</td>\n",
       "      <td>0.21</td>\n",
       "      <td>0.83</td>\n",
       "      <td>1.23</td>\n",
       "      <td>0.00</td>\n",
       "      <td>0.14</td>\n",
       "      <td>0.89</td>\n",
       "      <td>0.17</td>\n",
       "    </tr>\n",
       "    <tr>\n",
       "      <th>PaymentMethod_Electronic check</th>\n",
       "      <td>0.42</td>\n",
       "      <td>1.52</td>\n",
       "      <td>0.08</td>\n",
       "      <td>0.26</td>\n",
       "      <td>0.57</td>\n",
       "      <td>1.30</td>\n",
       "      <td>1.78</td>\n",
       "      <td>0.00</td>\n",
       "      <td>5.27</td>\n",
       "      <td>&lt;0.005</td>\n",
       "      <td>22.77</td>\n",
       "    </tr>\n",
       "    <tr>\n",
       "      <th>PaymentMethod_Mailed check</th>\n",
       "      <td>0.53</td>\n",
       "      <td>1.70</td>\n",
       "      <td>0.09</td>\n",
       "      <td>0.35</td>\n",
       "      <td>0.72</td>\n",
       "      <td>1.41</td>\n",
       "      <td>2.05</td>\n",
       "      <td>0.00</td>\n",
       "      <td>5.63</td>\n",
       "      <td>&lt;0.005</td>\n",
       "      <td>25.69</td>\n",
       "    </tr>\n",
       "  </tbody>\n",
       "</table><br><div>\n",
       "<style scoped>\n",
       "    .dataframe tbody tr th:only-of-type {\n",
       "        vertical-align: middle;\n",
       "    }\n",
       "\n",
       "    .dataframe tbody tr th {\n",
       "        vertical-align: top;\n",
       "    }\n",
       "\n",
       "    .dataframe thead th {\n",
       "        text-align: right;\n",
       "    }\n",
       "</style>\n",
       "<table border=\"1\" class=\"dataframe\">\n",
       "  <tbody>\n",
       "    <tr>\n",
       "      <th>Concordance</th>\n",
       "      <td>0.93</td>\n",
       "    </tr>\n",
       "    <tr>\n",
       "      <th>Partial AIC</th>\n",
       "      <td>21176.01</td>\n",
       "    </tr>\n",
       "    <tr>\n",
       "      <th>log-likelihood ratio test</th>\n",
       "      <td>5160.81 on 22 df</td>\n",
       "    </tr>\n",
       "    <tr>\n",
       "      <th>-log2(p) of ll-ratio test</th>\n",
       "      <td>inf</td>\n",
       "    </tr>\n",
       "  </tbody>\n",
       "</table>\n",
       "</div>"
      ],
      "text/latex": [
       "\\begin{tabular}{lrrrrrrrrrrr}\n",
       " & coef & exp(coef) & se(coef) & coef lower 95% & coef upper 95% & exp(coef) lower 95% & exp(coef) upper 95% & cmp to & z & p & -log2(p) \\\\\n",
       "covariate &  &  &  &  &  &  &  &  &  &  &  \\\\\n",
       "gender & 0.06 & 1.06 & 0.05 & -0.04 & 0.16 & 0.96 & 1.17 & 0.00 & 1.23 & 0.22 & 2.19 \\\\\n",
       "SeniorCitizen & 0.03 & 1.03 & 0.06 & -0.09 & 0.15 & 0.92 & 1.16 & 0.00 & 0.52 & 0.61 & 0.72 \\\\\n",
       "Partner & -0.16 & 0.85 & 0.06 & -0.28 & -0.04 & 0.76 & 0.96 & 0.00 & -2.70 & 0.01 & 7.17 \\\\\n",
       "Dependents & -0.08 & 0.92 & 0.08 & -0.23 & 0.07 & 0.79 & 1.07 & 0.00 & -1.07 & 0.28 & 1.82 \\\\\n",
       "PhoneService & 1.00 & 2.71 & 0.51 & -0.01 & 2.00 & 0.99 & 7.42 & 0.00 & 1.94 & 0.05 & 4.25 \\\\\n",
       "MultipleLines & 0.14 & 1.15 & 0.14 & -0.13 & 0.41 & 0.88 & 1.50 & 0.00 & 1.03 & 0.30 & 1.73 \\\\\n",
       "OnlineSecurity & -0.17 & 0.85 & 0.14 & -0.45 & 0.11 & 0.64 & 1.12 & 0.00 & -1.17 & 0.24 & 2.04 \\\\\n",
       "OnlineBackup & -0.00 & 1.00 & 0.14 & -0.28 & 0.27 & 0.76 & 1.31 & 0.00 & -0.03 & 0.98 & 0.03 \\\\\n",
       "DeviceProtection & 0.15 & 1.16 & 0.14 & -0.12 & 0.41 & 0.89 & 1.51 & 0.00 & 1.07 & 0.28 & 1.81 \\\\\n",
       "TechSupport & -0.05 & 0.95 & 0.14 & -0.33 & 0.23 & 0.72 & 1.26 & 0.00 & -0.33 & 0.74 & 0.43 \\\\\n",
       "StreamingTV & 0.41 & 1.51 & 0.26 & -0.09 & 0.92 & 0.92 & 2.50 & 0.00 & 1.62 & 0.10 & 3.26 \\\\\n",
       "StreamingMovies & 0.39 & 1.47 & 0.26 & -0.12 & 0.89 & 0.89 & 2.43 & 0.00 & 1.50 & 0.13 & 2.91 \\\\\n",
       "PaperlessBilling & 0.16 & 1.18 & 0.06 & 0.04 & 0.28 & 1.04 & 1.33 & 0.00 & 2.63 & 0.01 & 6.86 \\\\\n",
       "MonthlyCharges & 0.00 & 1.00 & 0.02 & -0.05 & 0.05 & 0.95 & 1.05 & 0.00 & 0.07 & 0.94 & 0.09 \\\\\n",
       "TotalCharges & -0.00 & 1.00 & 0.00 & -0.00 & -0.00 & 1.00 & 1.00 & 0.00 & -36.23 & 0.00 & 952.30 \\\\\n",
       "InternetService_Fiber optic & 1.32 & 3.74 & 0.63 & 0.09 & 2.55 & 1.09 & 12.85 & 0.00 & 2.10 & 0.04 & 4.79 \\\\\n",
       "InternetService_No & -2.63 & 0.07 & 0.65 & -3.89 & -1.36 & 0.02 & 0.26 & 0.00 & -4.07 & 0.00 & 14.35 \\\\\n",
       "Contract_One year & -1.28 & 0.28 & 0.11 & -1.50 & -1.06 & 0.22 & 0.35 & 0.00 & -11.61 & 0.00 & 101.10 \\\\\n",
       "Contract_Two year & -3.80 & 0.02 & 0.22 & -4.24 & -3.37 & 0.01 & 0.03 & 0.00 & -17.13 & 0.00 & 216.15 \\\\\n",
       "PaymentMethod_Credit card (automatic) & 0.01 & 1.01 & 0.10 & -0.18 & 0.21 & 0.83 & 1.23 & 0.00 & 0.14 & 0.89 & 0.17 \\\\\n",
       "PaymentMethod_Electronic check & 0.42 & 1.52 & 0.08 & 0.26 & 0.57 & 1.30 & 1.78 & 0.00 & 5.27 & 0.00 & 22.77 \\\\\n",
       "PaymentMethod_Mailed check & 0.53 & 1.70 & 0.09 & 0.35 & 0.72 & 1.41 & 2.05 & 0.00 & 5.63 & 0.00 & 25.69 \\\\\n",
       "\\end{tabular}\n"
      ],
      "text/plain": [
       "<lifelines.CoxPHFitter: fitted with 6043 total observations, 4444 right-censored observations>\n",
       "             duration col = 'tenure'\n",
       "                event col = 'Churn'\n",
       "      baseline estimation = breslow\n",
       "   number of observations = 6043\n",
       "number of events observed = 1599\n",
       "   partial log-likelihood = -10566.00\n",
       "         time fit was run = 2025-06-27 16:21:45 UTC\n",
       "\n",
       "---\n",
       "                                       coef exp(coef)  se(coef)  coef lower 95%  coef upper 95% exp(coef) lower 95% exp(coef) upper 95%\n",
       "covariate                                                                                                                              \n",
       "gender                                 0.06      1.06      0.05           -0.04            0.16                0.96                1.17\n",
       "SeniorCitizen                          0.03      1.03      0.06           -0.09            0.15                0.92                1.16\n",
       "Partner                               -0.16      0.85      0.06           -0.28           -0.04                0.76                0.96\n",
       "Dependents                            -0.08      0.92      0.08           -0.23            0.07                0.79                1.07\n",
       "PhoneService                           1.00      2.71      0.51           -0.01            2.00                0.99                7.42\n",
       "MultipleLines                          0.14      1.15      0.14           -0.13            0.41                0.88                1.50\n",
       "OnlineSecurity                        -0.17      0.85      0.14           -0.45            0.11                0.64                1.12\n",
       "OnlineBackup                          -0.00      1.00      0.14           -0.28            0.27                0.76                1.31\n",
       "DeviceProtection                       0.15      1.16      0.14           -0.12            0.41                0.89                1.51\n",
       "TechSupport                           -0.05      0.95      0.14           -0.33            0.23                0.72                1.26\n",
       "StreamingTV                            0.41      1.51      0.26           -0.09            0.92                0.92                2.50\n",
       "StreamingMovies                        0.39      1.47      0.26           -0.12            0.89                0.89                2.43\n",
       "PaperlessBilling                       0.16      1.18      0.06            0.04            0.28                1.04                1.33\n",
       "MonthlyCharges                         0.00      1.00      0.02           -0.05            0.05                0.95                1.05\n",
       "TotalCharges                          -0.00      1.00      0.00           -0.00           -0.00                1.00                1.00\n",
       "InternetService_Fiber optic            1.32      3.74      0.63            0.09            2.55                1.09               12.85\n",
       "InternetService_No                    -2.63      0.07      0.65           -3.89           -1.36                0.02                0.26\n",
       "Contract_One year                     -1.28      0.28      0.11           -1.50           -1.06                0.22                0.35\n",
       "Contract_Two year                     -3.80      0.02      0.22           -4.24           -3.37                0.01                0.03\n",
       "PaymentMethod_Credit card (automatic)  0.01      1.01      0.10           -0.18            0.21                0.83                1.23\n",
       "PaymentMethod_Electronic check         0.42      1.52      0.08            0.26            0.57                1.30                1.78\n",
       "PaymentMethod_Mailed check             0.53      1.70      0.09            0.35            0.72                1.41                2.05\n",
       "\n",
       "                                       cmp to      z      p  -log2(p)\n",
       "covariate                                                            \n",
       "gender                                   0.00   1.23   0.22      2.19\n",
       "SeniorCitizen                            0.00   0.52   0.61      0.72\n",
       "Partner                                  0.00  -2.70   0.01      7.17\n",
       "Dependents                               0.00  -1.07   0.28      1.82\n",
       "PhoneService                             0.00   1.94   0.05      4.25\n",
       "MultipleLines                            0.00   1.03   0.30      1.73\n",
       "OnlineSecurity                           0.00  -1.17   0.24      2.04\n",
       "OnlineBackup                             0.00  -0.03   0.98      0.03\n",
       "DeviceProtection                         0.00   1.07   0.28      1.81\n",
       "TechSupport                              0.00  -0.33   0.74      0.43\n",
       "StreamingTV                              0.00   1.62   0.10      3.26\n",
       "StreamingMovies                          0.00   1.50   0.13      2.91\n",
       "PaperlessBilling                         0.00   2.63   0.01      6.86\n",
       "MonthlyCharges                           0.00   0.07   0.94      0.09\n",
       "TotalCharges                             0.00 -36.23 <0.005    952.30\n",
       "InternetService_Fiber optic              0.00   2.10   0.04      4.79\n",
       "InternetService_No                       0.00  -4.07 <0.005     14.35\n",
       "Contract_One year                        0.00 -11.61 <0.005    101.10\n",
       "Contract_Two year                        0.00 -17.13 <0.005    216.15\n",
       "PaymentMethod_Credit card (automatic)    0.00   0.14   0.89      0.17\n",
       "PaymentMethod_Electronic check           0.00   5.27 <0.005     22.77\n",
       "PaymentMethod_Mailed check               0.00   5.63 <0.005     25.69\n",
       "---\n",
       "Concordance = 0.93\n",
       "Partial AIC = 21176.01\n",
       "log-likelihood ratio test = 5160.81 on 22 df\n",
       "-log2(p) of ll-ratio test = inf"
      ]
     },
     "metadata": {},
     "output_type": "display_data"
    }
   ],
   "source": [
    "cph = CoxPHFitter()\n",
    "cph.fit(train_df, duration_col='tenure', event_col='Churn')\n",
    "\n",
    "cph.print_summary()"
   ]
  },
  {
   "cell_type": "markdown",
   "id": "d2f5ec72-219c-46e8-acf8-a34f8a9a8326",
   "metadata": {},
   "source": [
    "#### Analysis"
   ]
  },
  {
   "cell_type": "code",
   "execution_count": 27,
   "id": "05f05019-750b-4515-ba91-16fc7f9ca56e",
   "metadata": {},
   "outputs": [],
   "source": [
    "alive = test_df_X[test_df_y==0].reset_index(drop=True).copy()"
   ]
  },
  {
   "cell_type": "code",
   "execution_count": 28,
   "id": "0f0be7d4-6e80-4206-af8f-e7a018c5ec30",
   "metadata": {},
   "outputs": [],
   "source": [
    "risk_scores = cph.predict_partial_hazard(alive)\n",
    "alive['risk'] = risk_scores.values\n",
    "alive['expected_lifetime'] = cph.predict_expectation(alive)"
   ]
  },
  {
   "cell_type": "code",
   "execution_count": 29,
   "id": "d933643e-d8db-4b97-be9e-69d473eb57f9",
   "metadata": {},
   "outputs": [
    {
     "data": {
      "text/html": [
       "<div>\n",
       "<style scoped>\n",
       "    .dataframe tbody tr th:only-of-type {\n",
       "        vertical-align: middle;\n",
       "    }\n",
       "\n",
       "    .dataframe tbody tr th {\n",
       "        vertical-align: top;\n",
       "    }\n",
       "\n",
       "    .dataframe thead th {\n",
       "        text-align: right;\n",
       "    }\n",
       "</style>\n",
       "<table border=\"1\" class=\"dataframe\">\n",
       "  <thead>\n",
       "    <tr style=\"text-align: right;\">\n",
       "      <th></th>\n",
       "      <th>0</th>\n",
       "      <th>1</th>\n",
       "      <th>2</th>\n",
       "      <th>3</th>\n",
       "      <th>4</th>\n",
       "    </tr>\n",
       "  </thead>\n",
       "  <tbody>\n",
       "    <tr>\n",
       "      <th>gender</th>\n",
       "      <td>1</td>\n",
       "      <td>1</td>\n",
       "      <td>1</td>\n",
       "      <td>0</td>\n",
       "      <td>1</td>\n",
       "    </tr>\n",
       "    <tr>\n",
       "      <th>SeniorCitizen</th>\n",
       "      <td>0</td>\n",
       "      <td>0</td>\n",
       "      <td>0</td>\n",
       "      <td>0</td>\n",
       "      <td>0</td>\n",
       "    </tr>\n",
       "    <tr>\n",
       "      <th>Partner</th>\n",
       "      <td>0</td>\n",
       "      <td>1</td>\n",
       "      <td>0</td>\n",
       "      <td>1</td>\n",
       "      <td>1</td>\n",
       "    </tr>\n",
       "    <tr>\n",
       "      <th>Dependents</th>\n",
       "      <td>1</td>\n",
       "      <td>1</td>\n",
       "      <td>0</td>\n",
       "      <td>0</td>\n",
       "      <td>1</td>\n",
       "    </tr>\n",
       "    <tr>\n",
       "      <th>tenure</th>\n",
       "      <td>12</td>\n",
       "      <td>38</td>\n",
       "      <td>9</td>\n",
       "      <td>13</td>\n",
       "      <td>47</td>\n",
       "    </tr>\n",
       "    <tr>\n",
       "      <th>PhoneService</th>\n",
       "      <td>1</td>\n",
       "      <td>1</td>\n",
       "      <td>1</td>\n",
       "      <td>1</td>\n",
       "      <td>1</td>\n",
       "    </tr>\n",
       "    <tr>\n",
       "      <th>MultipleLines</th>\n",
       "      <td>1</td>\n",
       "      <td>0</td>\n",
       "      <td>0</td>\n",
       "      <td>1</td>\n",
       "      <td>0</td>\n",
       "    </tr>\n",
       "    <tr>\n",
       "      <th>OnlineSecurity</th>\n",
       "      <td>0</td>\n",
       "      <td>0</td>\n",
       "      <td>0</td>\n",
       "      <td>1</td>\n",
       "      <td>0</td>\n",
       "    </tr>\n",
       "    <tr>\n",
       "      <th>OnlineBackup</th>\n",
       "      <td>0</td>\n",
       "      <td>0</td>\n",
       "      <td>0</td>\n",
       "      <td>0</td>\n",
       "      <td>0</td>\n",
       "    </tr>\n",
       "    <tr>\n",
       "      <th>DeviceProtection</th>\n",
       "      <td>0</td>\n",
       "      <td>0</td>\n",
       "      <td>1</td>\n",
       "      <td>0</td>\n",
       "      <td>0</td>\n",
       "    </tr>\n",
       "    <tr>\n",
       "      <th>TechSupport</th>\n",
       "      <td>0</td>\n",
       "      <td>0</td>\n",
       "      <td>0</td>\n",
       "      <td>0</td>\n",
       "      <td>0</td>\n",
       "    </tr>\n",
       "    <tr>\n",
       "      <th>StreamingTV</th>\n",
       "      <td>0</td>\n",
       "      <td>0</td>\n",
       "      <td>0</td>\n",
       "      <td>0</td>\n",
       "      <td>0</td>\n",
       "    </tr>\n",
       "    <tr>\n",
       "      <th>StreamingMovies</th>\n",
       "      <td>0</td>\n",
       "      <td>0</td>\n",
       "      <td>1</td>\n",
       "      <td>1</td>\n",
       "      <td>0</td>\n",
       "    </tr>\n",
       "    <tr>\n",
       "      <th>PaperlessBilling</th>\n",
       "      <td>1</td>\n",
       "      <td>0</td>\n",
       "      <td>1</td>\n",
       "      <td>1</td>\n",
       "      <td>0</td>\n",
       "    </tr>\n",
       "    <tr>\n",
       "      <th>MonthlyCharges</th>\n",
       "      <td>76.6</td>\n",
       "      <td>19.6</td>\n",
       "      <td>85.3</td>\n",
       "      <td>65.85</td>\n",
       "      <td>20.05</td>\n",
       "    </tr>\n",
       "    <tr>\n",
       "      <th>TotalCharges</th>\n",
       "      <td>893.0</td>\n",
       "      <td>763.1</td>\n",
       "      <td>781.4</td>\n",
       "      <td>902.25</td>\n",
       "      <td>1016.7</td>\n",
       "    </tr>\n",
       "    <tr>\n",
       "      <th>InternetService_Fiber optic</th>\n",
       "      <td>True</td>\n",
       "      <td>False</td>\n",
       "      <td>True</td>\n",
       "      <td>False</td>\n",
       "      <td>False</td>\n",
       "    </tr>\n",
       "    <tr>\n",
       "      <th>InternetService_No</th>\n",
       "      <td>False</td>\n",
       "      <td>True</td>\n",
       "      <td>False</td>\n",
       "      <td>False</td>\n",
       "      <td>True</td>\n",
       "    </tr>\n",
       "    <tr>\n",
       "      <th>Contract_One year</th>\n",
       "      <td>False</td>\n",
       "      <td>True</td>\n",
       "      <td>False</td>\n",
       "      <td>False</td>\n",
       "      <td>False</td>\n",
       "    </tr>\n",
       "    <tr>\n",
       "      <th>Contract_Two year</th>\n",
       "      <td>False</td>\n",
       "      <td>False</td>\n",
       "      <td>False</td>\n",
       "      <td>False</td>\n",
       "      <td>True</td>\n",
       "    </tr>\n",
       "    <tr>\n",
       "      <th>PaymentMethod_Credit card (automatic)</th>\n",
       "      <td>False</td>\n",
       "      <td>True</td>\n",
       "      <td>True</td>\n",
       "      <td>False</td>\n",
       "      <td>True</td>\n",
       "    </tr>\n",
       "    <tr>\n",
       "      <th>PaymentMethod_Electronic check</th>\n",
       "      <td>True</td>\n",
       "      <td>False</td>\n",
       "      <td>False</td>\n",
       "      <td>True</td>\n",
       "      <td>False</td>\n",
       "    </tr>\n",
       "    <tr>\n",
       "      <th>PaymentMethod_Mailed check</th>\n",
       "      <td>False</td>\n",
       "      <td>False</td>\n",
       "      <td>False</td>\n",
       "      <td>False</td>\n",
       "      <td>False</td>\n",
       "    </tr>\n",
       "    <tr>\n",
       "      <th>risk</th>\n",
       "      <td>132.852657</td>\n",
       "      <td>0.332574</td>\n",
       "      <td>172.923209</td>\n",
       "      <td>36.986299</td>\n",
       "      <td>0.017731</td>\n",
       "    </tr>\n",
       "    <tr>\n",
       "      <th>expected_lifetime</th>\n",
       "      <td>10.674431</td>\n",
       "      <td>57.061381</td>\n",
       "      <td>9.029825</td>\n",
       "      <td>19.974006</td>\n",
       "      <td>70.191911</td>\n",
       "    </tr>\n",
       "  </tbody>\n",
       "</table>\n",
       "</div>"
      ],
      "text/plain": [
       "                                                0          1           2  \\\n",
       "gender                                          1          1           1   \n",
       "SeniorCitizen                                   0          0           0   \n",
       "Partner                                         0          1           0   \n",
       "Dependents                                      1          1           0   \n",
       "tenure                                         12         38           9   \n",
       "PhoneService                                    1          1           1   \n",
       "MultipleLines                                   1          0           0   \n",
       "OnlineSecurity                                  0          0           0   \n",
       "OnlineBackup                                    0          0           0   \n",
       "DeviceProtection                                0          0           1   \n",
       "TechSupport                                     0          0           0   \n",
       "StreamingTV                                     0          0           0   \n",
       "StreamingMovies                                 0          0           1   \n",
       "PaperlessBilling                                1          0           1   \n",
       "MonthlyCharges                               76.6       19.6        85.3   \n",
       "TotalCharges                                893.0      763.1       781.4   \n",
       "InternetService_Fiber optic                  True      False        True   \n",
       "InternetService_No                          False       True       False   \n",
       "Contract_One year                           False       True       False   \n",
       "Contract_Two year                           False      False       False   \n",
       "PaymentMethod_Credit card (automatic)       False       True        True   \n",
       "PaymentMethod_Electronic check               True      False       False   \n",
       "PaymentMethod_Mailed check                  False      False       False   \n",
       "risk                                   132.852657   0.332574  172.923209   \n",
       "expected_lifetime                       10.674431  57.061381    9.029825   \n",
       "\n",
       "                                               3          4  \n",
       "gender                                         0          1  \n",
       "SeniorCitizen                                  0          0  \n",
       "Partner                                        1          1  \n",
       "Dependents                                     0          1  \n",
       "tenure                                        13         47  \n",
       "PhoneService                                   1          1  \n",
       "MultipleLines                                  1          0  \n",
       "OnlineSecurity                                 1          0  \n",
       "OnlineBackup                                   0          0  \n",
       "DeviceProtection                               0          0  \n",
       "TechSupport                                    0          0  \n",
       "StreamingTV                                    0          0  \n",
       "StreamingMovies                                1          0  \n",
       "PaperlessBilling                               1          0  \n",
       "MonthlyCharges                             65.85      20.05  \n",
       "TotalCharges                              902.25     1016.7  \n",
       "InternetService_Fiber optic                False      False  \n",
       "InternetService_No                         False       True  \n",
       "Contract_One year                          False      False  \n",
       "Contract_Two year                          False       True  \n",
       "PaymentMethod_Credit card (automatic)      False       True  \n",
       "PaymentMethod_Electronic check              True      False  \n",
       "PaymentMethod_Mailed check                 False      False  \n",
       "risk                                   36.986299   0.017731  \n",
       "expected_lifetime                      19.974006  70.191911  "
      ]
     },
     "execution_count": 29,
     "metadata": {},
     "output_type": "execute_result"
    }
   ],
   "source": [
    "alive.head().T"
   ]
  },
  {
   "cell_type": "code",
   "execution_count": 30,
   "id": "192958af-2b5b-4a2a-a3b6-21638f0dd09e",
   "metadata": {},
   "outputs": [],
   "source": [
    "least_risk_customer = alive.loc[[alive.risk.idxmin()]]\n",
    "most_risk_customer = alive.loc[[alive.risk.idxmax()]]"
   ]
  },
  {
   "cell_type": "code",
   "execution_count": 31,
   "id": "16abe51e-f016-40e2-9dc4-409e2e41063c",
   "metadata": {},
   "outputs": [
    {
     "data": {
      "text/html": [
       "<div>\n",
       "<style scoped>\n",
       "    .dataframe tbody tr th:only-of-type {\n",
       "        vertical-align: middle;\n",
       "    }\n",
       "\n",
       "    .dataframe tbody tr th {\n",
       "        vertical-align: top;\n",
       "    }\n",
       "\n",
       "    .dataframe thead th {\n",
       "        text-align: right;\n",
       "    }\n",
       "</style>\n",
       "<table border=\"1\" class=\"dataframe\">\n",
       "  <thead>\n",
       "    <tr style=\"text-align: right;\">\n",
       "      <th></th>\n",
       "      <th>537</th>\n",
       "      <th>619</th>\n",
       "    </tr>\n",
       "  </thead>\n",
       "  <tbody>\n",
       "    <tr>\n",
       "      <th>gender</th>\n",
       "      <td>1</td>\n",
       "      <td>0</td>\n",
       "    </tr>\n",
       "    <tr>\n",
       "      <th>SeniorCitizen</th>\n",
       "      <td>0</td>\n",
       "      <td>0</td>\n",
       "    </tr>\n",
       "    <tr>\n",
       "      <th>Partner</th>\n",
       "      <td>1</td>\n",
       "      <td>0</td>\n",
       "    </tr>\n",
       "    <tr>\n",
       "      <th>Dependents</th>\n",
       "      <td>1</td>\n",
       "      <td>0</td>\n",
       "    </tr>\n",
       "    <tr>\n",
       "      <th>tenure</th>\n",
       "      <td>72</td>\n",
       "      <td>3</td>\n",
       "    </tr>\n",
       "    <tr>\n",
       "      <th>PhoneService</th>\n",
       "      <td>1</td>\n",
       "      <td>1</td>\n",
       "    </tr>\n",
       "    <tr>\n",
       "      <th>MultipleLines</th>\n",
       "      <td>1</td>\n",
       "      <td>0</td>\n",
       "    </tr>\n",
       "    <tr>\n",
       "      <th>OnlineSecurity</th>\n",
       "      <td>1</td>\n",
       "      <td>0</td>\n",
       "    </tr>\n",
       "    <tr>\n",
       "      <th>OnlineBackup</th>\n",
       "      <td>1</td>\n",
       "      <td>0</td>\n",
       "    </tr>\n",
       "    <tr>\n",
       "      <th>DeviceProtection</th>\n",
       "      <td>1</td>\n",
       "      <td>1</td>\n",
       "    </tr>\n",
       "    <tr>\n",
       "      <th>TechSupport</th>\n",
       "      <td>1</td>\n",
       "      <td>1</td>\n",
       "    </tr>\n",
       "    <tr>\n",
       "      <th>StreamingTV</th>\n",
       "      <td>1</td>\n",
       "      <td>1</td>\n",
       "    </tr>\n",
       "    <tr>\n",
       "      <th>StreamingMovies</th>\n",
       "      <td>1</td>\n",
       "      <td>0</td>\n",
       "    </tr>\n",
       "    <tr>\n",
       "      <th>PaperlessBilling</th>\n",
       "      <td>0</td>\n",
       "      <td>1</td>\n",
       "    </tr>\n",
       "    <tr>\n",
       "      <th>MonthlyCharges</th>\n",
       "      <td>117.5</td>\n",
       "      <td>89.85</td>\n",
       "    </tr>\n",
       "    <tr>\n",
       "      <th>TotalCharges</th>\n",
       "      <td>8670.1</td>\n",
       "      <td>244.45</td>\n",
       "    </tr>\n",
       "    <tr>\n",
       "      <th>InternetService_Fiber optic</th>\n",
       "      <td>True</td>\n",
       "      <td>True</td>\n",
       "    </tr>\n",
       "    <tr>\n",
       "      <th>InternetService_No</th>\n",
       "      <td>False</td>\n",
       "      <td>False</td>\n",
       "    </tr>\n",
       "    <tr>\n",
       "      <th>Contract_One year</th>\n",
       "      <td>False</td>\n",
       "      <td>False</td>\n",
       "    </tr>\n",
       "    <tr>\n",
       "      <th>Contract_Two year</th>\n",
       "      <td>True</td>\n",
       "      <td>False</td>\n",
       "    </tr>\n",
       "    <tr>\n",
       "      <th>PaymentMethod_Credit card (automatic)</th>\n",
       "      <td>True</td>\n",
       "      <td>False</td>\n",
       "    </tr>\n",
       "    <tr>\n",
       "      <th>PaymentMethod_Electronic check</th>\n",
       "      <td>False</td>\n",
       "      <td>False</td>\n",
       "    </tr>\n",
       "    <tr>\n",
       "      <th>PaymentMethod_Mailed check</th>\n",
       "      <td>False</td>\n",
       "      <td>True</td>\n",
       "    </tr>\n",
       "    <tr>\n",
       "      <th>risk</th>\n",
       "      <td>0.000011</td>\n",
       "      <td>646.93411</td>\n",
       "    </tr>\n",
       "    <tr>\n",
       "      <th>expected_lifetime</th>\n",
       "      <td>71.998835</td>\n",
       "      <td>2.970484</td>\n",
       "    </tr>\n",
       "  </tbody>\n",
       "</table>\n",
       "</div>"
      ],
      "text/plain": [
       "                                             537        619\n",
       "gender                                         1          0\n",
       "SeniorCitizen                                  0          0\n",
       "Partner                                        1          0\n",
       "Dependents                                     1          0\n",
       "tenure                                        72          3\n",
       "PhoneService                                   1          1\n",
       "MultipleLines                                  1          0\n",
       "OnlineSecurity                                 1          0\n",
       "OnlineBackup                                   1          0\n",
       "DeviceProtection                               1          1\n",
       "TechSupport                                    1          1\n",
       "StreamingTV                                    1          1\n",
       "StreamingMovies                                1          0\n",
       "PaperlessBilling                               0          1\n",
       "MonthlyCharges                             117.5      89.85\n",
       "TotalCharges                              8670.1     244.45\n",
       "InternetService_Fiber optic                 True       True\n",
       "InternetService_No                         False      False\n",
       "Contract_One year                          False      False\n",
       "Contract_Two year                           True      False\n",
       "PaymentMethod_Credit card (automatic)       True      False\n",
       "PaymentMethod_Electronic check             False      False\n",
       "PaymentMethod_Mailed check                 False       True\n",
       "risk                                    0.000011  646.93411\n",
       "expected_lifetime                      71.998835   2.970484"
      ]
     },
     "execution_count": 31,
     "metadata": {},
     "output_type": "execute_result"
    }
   ],
   "source": [
    "pd.concat([least_risk_customer, most_risk_customer]).T"
   ]
  },
  {
   "cell_type": "code",
   "execution_count": 32,
   "id": "df094b77-bd70-4b16-b446-348655a1de60",
   "metadata": {},
   "outputs": [],
   "source": [
    "survival_curves = cph.predict_survival_function(alive)"
   ]
  },
  {
   "cell_type": "code",
   "execution_count": 33,
   "id": "32a7c5fc-c874-4e51-92a3-3490e802a2c2",
   "metadata": {},
   "outputs": [
    {
     "data": {
      "image/png": "[encoded data removed]",
      "text/plain": [
       "<Figure size 1200x600 with 2 Axes>"
      ]
     },
     "metadata": {},
     "output_type": "display_data"
    }
   ],
   "source": [
    "fig, (lrc_ax, mrc_ax) = plt.subplots(ncols=2, nrows=1, figsize=(12, 6))\n",
    "sns.lineplot(data=survival_curves.iloc[:, least_risk_customer.index[0]], legend=None, color='green', linewidth=2, ax=lrc_ax)\n",
    "lrc_ax.set_title(\"Customer with least risk\")\n",
    "lrc_ax.set_xlabel(\"Customer tenure\")\n",
    "lrc_ax.set_ylabel(\"Customer churn probability\")\n",
    "sns.lineplot(data=survival_curves.iloc[:, most_risk_customer.index[0]], legend=None, color='red', linewidth=2, ax=mrc_ax)\n",
    "mrc_ax.set_title(\"Customer with most risk\")\n",
    "mrc_ax.set_xlabel(\"Customer tenure\")\n",
    "mrc_ax.set_ylabel(\"Customer churn probability\")\n",
    "plt.show()"
   ]
  },
  {
   "cell_type": "markdown",
   "id": "22006e99-3576-468b-91a6-d82c2ecd80ca",
   "metadata": {},
   "source": [
    "## Prediction"
   ]
  },
  {
   "cell_type": "markdown",
   "id": "18f5e88d-0c90-4208-a735-5219bcad51c0",
   "metadata": {},
   "source": [
    "### Form"
   ]
  },
  {
   "cell_type": "code",
   "execution_count": 34,
   "id": "f540e4d1-81bd-4c2b-8341-4a320e4c5398",
   "metadata": {},
   "outputs": [],
   "source": [
    "wide_layout = widgets.Layout(description_width='500px')\n",
    "gender = widgets.Dropdown(options=['Male', 'Female'], description='Gender')\n",
    "senior = widgets.Checkbox(value=False, description='SeniorCitizen', disabled=False)\n",
    "partner = widgets.Checkbox(value=False, description='Partner', disabled=False)\n",
    "dependents = widgets.Checkbox(value=False, description='Dependents', disabled=False)\n",
    "paperlessbilling = widgets.Checkbox(value=False, description='PaperlessBilling', disabled=False)\n",
    "\n",
    "tenure = widgets.IntSlider(min=0, max=72, value=1, description='Tenure')\n",
    "\n",
    "phoneservice = widgets.Checkbox(value=False, description='PhoneService', disabled=False)\n",
    "multiplelines = widgets.Checkbox(value=False, description='MultipleLines', disabled=False)\n",
    "\n",
    "internetservice = widgets.Dropdown(options=['DSL', 'Fiber optic', 'No'], description='InternetService', layout=wide_layout, style={'description_width': 'initial'})\n",
    "onlinesecurity = widgets.Checkbox(value=False, description='OnlineSecurity', disabled=False)\n",
    "onlinebackup = widgets.Checkbox(value=False, description='OnlineBackup', disabled=False)\n",
    "deviceprotection = widgets.Checkbox(value=False, description='DeviceProtection', disabled=False)\n",
    "techsupport = widgets.Checkbox(value=False, description='TechSupport', disabled=False)\n",
    "streamingtv = widgets.Checkbox(value=False, description='StreamingTV', disabled=False)\n",
    "streamingmovies = widgets.Checkbox(value=False, description='StreamingMovies', disabled=False)\n",
    "\n",
    "contract = widgets.Dropdown(options=['Month-to-month', 'One year', 'Two year'], description='Contract')\n",
    "paymentmethod = widgets.Dropdown(\n",
    "    options=['Electronic check', 'Mailed check', 'Bank transfer (automatic)', 'Credit card (automatic)'],\n",
    "    description='PaymentMethod', layout=wide_layout, style={'description_width': 'initial'})\n",
    "monthlycharges = widgets.FloatText(value=70.0, description='MonthlyCharges', layout=wide_layout, style={'description_width': 'initial'})\n",
    "divider = widgets.HTML(value=\"<hr>\")\n"
   ]
  },
  {
   "cell_type": "code",
   "execution_count": 35,
   "id": "ee8e36fc-8fb9-4588-8ce3-76265e448990",
   "metadata": {},
   "outputs": [],
   "source": [
    "button = widgets.Button(description=\"Predict Churn\")\n",
    "output = widgets.Output()\n",
    "\n",
    "def on_predict_clicked(b):\n",
    "    # Create DataFrame from inputs\n",
    "    checkbox_to_yes_no = lambda value: \"Yes\" if value else \"No\"\n",
    "    data = {\n",
    "        'gender': [gender.value],\n",
    "        'SeniorCitizen': [senior.value],\n",
    "        'Partner': [checkbox_to_yes_no(partner.value)],\n",
    "        'Dependents': [checkbox_to_yes_no(dependents.value)],\n",
    "        'tenure': [tenure.value],\n",
    "        'PhoneService': [checkbox_to_yes_no(phoneservice.value)],\n",
    "        'MultipleLines': [checkbox_to_yes_no(multiplelines.value)],\n",
    "        'InternetService': [checkbox_to_yes_no(internetservice.value)],\n",
    "        'OnlineSecurity': [checkbox_to_yes_no(onlinesecurity.value)],\n",
    "        'OnlineBackup': [checkbox_to_yes_no(onlinebackup.value)],\n",
    "        'DeviceProtection': [checkbox_to_yes_no(deviceprotection.value)],\n",
    "        'TechSupport': [checkbox_to_yes_no(techsupport.value)],\n",
    "        'StreamingTV': [checkbox_to_yes_no(streamingtv.value)],\n",
    "        'StreamingMovies': [checkbox_to_yes_no(streamingmovies.value)],\n",
    "        'Contract': [contract.value],\n",
    "        'PaperlessBilling': [checkbox_to_yes_no(paperlessbilling.value)],\n",
    "        'PaymentMethod': [paymentmethod.value],\n",
    "        'MonthlyCharges': [monthlycharges.value],\n",
    "        'TotalCharges': [monthlycharges.value*tenure.value],\n",
    "    }\n",
    "\n",
    "    df = pd.DataFrame(data)\n",
    "\n",
    "    # Predict\n",
    "    with output:\n",
    "        clear_output()\n",
    "        # This transformer trained on train dataset and he try to save all columns in same order but now i don't have Churn feature because it's test\n",
    "        # I don't wanna to write new data transformation class for test data. \n",
    "        preprocessed_df = dp.transform(df).drop(\"Churn\", axis=1) \n",
    "        surv = cph.predict_survival_function(preprocessed_df)\n",
    "        expected_total = cph.predict_expectation(preprocessed_df).values[0]\n",
    "        tenure_val = preprocessed_df[\"tenure\"].values[0]\n",
    "        remaining = expected_total - tenure_val\n",
    "        expected_total_value = expected_total*preprocessed_df['MonthlyCharges'].values[0]\n",
    "        expected_remaining_value = remaining*preprocessed_df['MonthlyCharges'].values[0]\n",
    "        # Ймовірності відтоку\n",
    "        t_idx = min(surv.index, key=lambda x: abs(x - tenure_val))\n",
    "        current_surv = surv.loc[t_idx].values[0]\n",
    "        max_time = surv.index.max()\n",
    "        p_3 = 1 - surv.loc[min(tenure_val + 3, max_time)].values[0] / current_surv\n",
    "        p_6 = 1 - surv.loc[min(tenure_val + 6, max_time)].values[0] / current_surv\n",
    "        p_12 = 1 - surv.loc[min(tenure_val + 12, max_time)].values[0] / current_surv\n",
    "\n",
    "        # Visualization\n",
    "        plt.figure(figsize=(12, 5))\n",
    "\n",
    "        plt.subplot(1, 2, 1)\n",
    "        plt.plot(surv.index, surv.values.T[0], label=\"Survival probability\")\n",
    "        plt.title(\"Survival function for input customer\")\n",
    "        plt.xlabel(\"Months since start\")\n",
    "        plt.ylabel(\"P(survive)\")\n",
    "        plt.ylim(-0.05, 1.05)\n",
    "        plt.grid(True)\n",
    "        plt.legend()\n",
    "\n",
    "        plt.subplot(1, 2, 2)\n",
    "        plt.axis('off')\n",
    "        info = f\"\"\"Probability that the customer will ever churn: {lr.predict_proba(preprocessed_df)[0, 1]:.2%}\n",
    "        \n",
    "Expected Total Life: {expected_total:.1f} months\n",
    "Current Tenure: {tenure_val} months\n",
    "Expected Remaining: {remaining:.1f} months\n",
    "\n",
    "Expected Total Value: {expected_total_value:.1f}$\n",
    "Expected Remaining Value: {expected_remaining_value:.1f}$\n",
    "\n",
    "Churn Probability in:\n",
    "- Next 3 months: {p_3*100:.1f}%\n",
    "- Next 6 months: {p_6*100:.1f}%\n",
    "- Next 12 months: {p_12*100:.1f}%\"\"\"\n",
    "\n",
    "        plt.text(0, 1, info, fontsize=12, va='top')\n",
    "        plt.tight_layout()\n",
    "        plt.show()\n",
    "\n",
    "button.on_click(on_predict_clicked)"
   ]
  },
  {
   "cell_type": "code",
   "execution_count": 36,
   "id": "aa4a1c23-fb15-41a7-96d2-e680bf0a7a79",
   "metadata": {},
   "outputs": [],
   "source": [
    "phbox = widgets.HBox([senior, partner, dependents])\n",
    "bhbox = widgets.HBox([paymentmethod, paperlessbilling])\n",
    "i1hbox = widgets.HBox([onlinesecurity, onlinebackup, deviceprotection])\n",
    "i2hbox = widgets.HBox([techsupport, streamingtv, streamingmovies])\n",
    "\n",
    "personalvbox = widgets.VBox([widgets.HTML(value=\"<h4>Personal Info</h4>\"),gender, phbox, tenure, divider])\n",
    "phonevbox = widgets.VBox([widgets.HTML(value=\"<h4>Phone Service</h4>\"), phoneservice, multiplelines, divider])\n",
    "internetvbox = widgets.VBox([widgets.HTML(value=\"<h4>Internet Service</h4>\"), internetservice, i1hbox, i2hbox, divider])\n",
    "billingvbox = widgets.VBox([widgets.HTML(value=\"<h4>Billing Information</h4>\"), bhbox, contract, monthlycharges, divider])\n",
    "form = widgets.VBox([personalvbox, phonevbox, internetvbox, billingvbox, button, output])"
   ]
  },
  {
   "cell_type": "markdown",
   "id": "ef14c175-3b61-44d2-a443-e40c7237f72a",
   "metadata": {},
   "source": [
    "### Prediction Form"
   ]
  },
  {
   "cell_type": "code",
   "execution_count": 37,
   "id": "a4d61117-f907-400f-9827-9ecf9aaa4d7b",
   "metadata": {},
   "outputs": [
    {
     "data": {
      "application/vnd.jupyter.widget-view+json": {
       "model_id": "a7128aaa2bb5424a80551b2780ebc02d",
       "version_major": 2,
       "version_minor": 0
      },
      "text/plain": [
       "VBox(children=(VBox(children=(HTML(value='<h4>Personal Info</h4>'), Dropdown(description='Gender', options=('M…"
      ]
     },
     "metadata": {},
     "output_type": "display_data"
    }
   ],
   "source": [
    "display(form)"
   ]
  }
 ],
 "metadata": {
  "kernelspec": {
   "display_name": "Python 3 (ipykernel)",
   "language": "python",
   "name": "python3"
  },
  "language_info": {
   "codemirror_mode": {
    "name": "ipython",
    "version": 3
   },
   "file_extension": ".py",
   "mimetype": "text/x-python",
   "name": "python",
   "nbconvert_exporter": "python",
   "pygments_lexer": "ipython3",
   "version": "3.12.2"
  }
 },
 "nbformat": 4,
 "nbformat_minor": 5
}
